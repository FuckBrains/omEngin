{
 "cells": [
  {
   "cell_type": "code",
   "execution_count": 25,
   "metadata": {
    "scrolled": false
   },
   "outputs": [
    {
     "name": "stdout",
     "output_type": "stream",
     "text": [
      "- - - - - - - - - - - - - - - - - -\n",
      "[      ____  __  __   _          \n",
      "      / __ \\|  \\/  | | |         \n",
      "     | |  | | \\  / | | |         \n",
      "     | |  | | |\\/| | | |         \n",
      "     | |__| | |  | | | |         \n",
      "      \\____/\\_|  |_| |_|        ]\n",
      "\n",
      "- - - - - - - - - - - - - - - - - -\n",
      "\n",
      "\n"
     ]
    },
    {
     "ename": "KeyError",
     "evalue": "'zone'",
     "output_type": "error",
     "traceback": [
      "\u001b[1;31m---------------------------------------------------------------------------\u001b[0m",
      "\u001b[1;31mKeyError\u001b[0m                                  Traceback (most recent call last)",
      "\u001b[1;32me:\\python\\lib\\site-packages\\pandas\\core\\indexes\\base.py\u001b[0m in \u001b[0;36mget_loc\u001b[1;34m(self, key, method, tolerance)\u001b[0m\n\u001b[0;32m   2894\u001b[0m             \u001b[1;32mtry\u001b[0m\u001b[1;33m:\u001b[0m\u001b[1;33m\u001b[0m\u001b[1;33m\u001b[0m\u001b[0m\n\u001b[1;32m-> 2895\u001b[1;33m                 \u001b[1;32mreturn\u001b[0m \u001b[0mself\u001b[0m\u001b[1;33m.\u001b[0m\u001b[0m_engine\u001b[0m\u001b[1;33m.\u001b[0m\u001b[0mget_loc\u001b[0m\u001b[1;33m(\u001b[0m\u001b[0mcasted_key\u001b[0m\u001b[1;33m)\u001b[0m\u001b[1;33m\u001b[0m\u001b[1;33m\u001b[0m\u001b[0m\n\u001b[0m\u001b[0;32m   2896\u001b[0m             \u001b[1;32mexcept\u001b[0m \u001b[0mKeyError\u001b[0m \u001b[1;32mas\u001b[0m \u001b[0merr\u001b[0m\u001b[1;33m:\u001b[0m\u001b[1;33m\u001b[0m\u001b[1;33m\u001b[0m\u001b[0m\n",
      "\u001b[1;32mpandas\\_libs\\index.pyx\u001b[0m in \u001b[0;36mpandas._libs.index.IndexEngine.get_loc\u001b[1;34m()\u001b[0m\n",
      "\u001b[1;32mpandas\\_libs\\index.pyx\u001b[0m in \u001b[0;36mpandas._libs.index.IndexEngine.get_loc\u001b[1;34m()\u001b[0m\n",
      "\u001b[1;32mpandas\\_libs\\hashtable_class_helper.pxi\u001b[0m in \u001b[0;36mpandas._libs.hashtable.PyObjectHashTable.get_item\u001b[1;34m()\u001b[0m\n",
      "\u001b[1;32mpandas\\_libs\\hashtable_class_helper.pxi\u001b[0m in \u001b[0;36mpandas._libs.hashtable.PyObjectHashTable.get_item\u001b[1;34m()\u001b[0m\n",
      "\u001b[1;31mKeyError\u001b[0m: 'zone'",
      "\nThe above exception was the direct cause of the following exception:\n",
      "\u001b[1;31mKeyError\u001b[0m                                  Traceback (most recent call last)",
      "\u001b[1;32m<ipython-input-25-e6ae252760d7>\u001b[0m in \u001b[0;36m<module>\u001b[1;34m\u001b[0m\n\u001b[0;32m    120\u001b[0m \u001b[1;33m\u001b[0m\u001b[0m\n\u001b[0;32m    121\u001b[0m \u001b[0mx\u001b[0m \u001b[1;33m=\u001b[0m \u001b[0mo_dic\u001b[0m\u001b[1;33m(\u001b[0m\u001b[0mdf\u001b[0m\u001b[1;33m)\u001b[0m\u001b[1;33m\u001b[0m\u001b[1;33m\u001b[0m\u001b[0m\n\u001b[1;32m--> 122\u001b[1;33m \u001b[0mx\u001b[0m\u001b[1;33m.\u001b[0m\u001b[0madd2\u001b[0m\u001b[1;33m(\u001b[0m\u001b[1;34m'zone'\u001b[0m\u001b[1;33m,\u001b[0m \u001b[1;33m[\u001b[0m\u001b[1;34m'COM'\u001b[0m\u001b[1;33m,\u001b[0m\u001b[1;34m'NOA'\u001b[0m\u001b[1;33m]\u001b[0m\u001b[1;33m)\u001b[0m\u001b[1;33m\u001b[0m\u001b[1;33m\u001b[0m\u001b[0m\n\u001b[0m\u001b[0;32m    123\u001b[0m \u001b[0mx\u001b[0m\u001b[1;33m.\u001b[0m\u001b[0madd2\u001b[0m\u001b[1;33m(\u001b[0m\u001b[1;34m'CAT'\u001b[0m\u001b[1;33m,\u001b[0m \u001b[1;33m[\u001b[0m\u001b[1;34m'2G'\u001b[0m\u001b[1;33m,\u001b[0m \u001b[1;34m'3G'\u001b[0m\u001b[1;33m,\u001b[0m \u001b[1;34m'4G'\u001b[0m\u001b[1;33m]\u001b[0m\u001b[1;33m)\u001b[0m\u001b[1;33m\u001b[0m\u001b[1;33m\u001b[0m\u001b[0m\n\u001b[0;32m    124\u001b[0m \u001b[0mx\u001b[0m\u001b[1;33m.\u001b[0m\u001b[0madd2\u001b[0m\u001b[1;33m(\u001b[0m\u001b[1;34m'Priority'\u001b[0m\u001b[1;33m,\u001b[0m \u001b[1;33m[\u001b[0m\u001b[1;34m'P1'\u001b[0m\u001b[1;33m,\u001b[0m\u001b[1;34m'P2'\u001b[0m\u001b[1;33m]\u001b[0m\u001b[1;33m)\u001b[0m\u001b[1;33m\u001b[0m\u001b[1;33m\u001b[0m\u001b[0m\n",
      "\u001b[1;32m<ipython-input-25-e6ae252760d7>\u001b[0m in \u001b[0;36madd2\u001b[1;34m(self, k, v)\u001b[0m\n\u001b[0;32m     79\u001b[0m         \u001b[1;32mreturn\u001b[0m \u001b[0mself\u001b[0m\u001b[1;33m.\u001b[0m\u001b[0mdf\u001b[0m\u001b[1;33m\u001b[0m\u001b[1;33m\u001b[0m\u001b[0m\n\u001b[0;32m     80\u001b[0m     \u001b[1;32mdef\u001b[0m \u001b[0madd2\u001b[0m\u001b[1;33m(\u001b[0m\u001b[0mself\u001b[0m\u001b[1;33m,\u001b[0m \u001b[0mk\u001b[0m\u001b[1;33m,\u001b[0m \u001b[0mv\u001b[0m\u001b[1;33m)\u001b[0m\u001b[1;33m:\u001b[0m\u001b[1;33m\u001b[0m\u001b[1;33m\u001b[0m\u001b[0m\n\u001b[1;32m---> 81\u001b[1;33m         \u001b[0mself\u001b[0m\u001b[1;33m.\u001b[0m\u001b[0mdf\u001b[0m \u001b[1;33m=\u001b[0m \u001b[0mself\u001b[0m\u001b[1;33m.\u001b[0m\u001b[0mdf\u001b[0m\u001b[1;33m[\u001b[0m\u001b[0mself\u001b[0m\u001b[1;33m.\u001b[0m\u001b[0mdf\u001b[0m\u001b[1;33m[\u001b[0m\u001b[0mk\u001b[0m\u001b[1;33m]\u001b[0m\u001b[1;33m.\u001b[0m\u001b[0misin\u001b[0m\u001b[1;33m(\u001b[0m\u001b[0mv\u001b[0m\u001b[1;33m)\u001b[0m\u001b[1;33m]\u001b[0m\u001b[1;33m\u001b[0m\u001b[1;33m\u001b[0m\u001b[0m\n\u001b[0m\u001b[0;32m     82\u001b[0m         \u001b[0mself\u001b[0m\u001b[1;33m.\u001b[0m\u001b[0mlsky\u001b[0m\u001b[1;33m.\u001b[0m\u001b[0mappend\u001b[0m\u001b[1;33m(\u001b[0m\u001b[1;33m[\u001b[0m\u001b[0mk\u001b[0m\u001b[1;33m]\u001b[0m\u001b[1;33m)\u001b[0m\u001b[1;33m\u001b[0m\u001b[1;33m\u001b[0m\u001b[0m\n\u001b[0;32m     83\u001b[0m         \u001b[0mself\u001b[0m\u001b[1;33m.\u001b[0m\u001b[0mlsvl\u001b[0m\u001b[1;33m.\u001b[0m\u001b[0mappend\u001b[0m\u001b[1;33m(\u001b[0m\u001b[0mv\u001b[0m\u001b[1;33m)\u001b[0m\u001b[1;33m\u001b[0m\u001b[1;33m\u001b[0m\u001b[0m\n",
      "\u001b[1;32me:\\python\\lib\\site-packages\\pandas\\core\\frame.py\u001b[0m in \u001b[0;36m__getitem__\u001b[1;34m(self, key)\u001b[0m\n\u001b[0;32m   2900\u001b[0m             \u001b[1;32mif\u001b[0m \u001b[0mself\u001b[0m\u001b[1;33m.\u001b[0m\u001b[0mcolumns\u001b[0m\u001b[1;33m.\u001b[0m\u001b[0mnlevels\u001b[0m \u001b[1;33m>\u001b[0m \u001b[1;36m1\u001b[0m\u001b[1;33m:\u001b[0m\u001b[1;33m\u001b[0m\u001b[1;33m\u001b[0m\u001b[0m\n\u001b[0;32m   2901\u001b[0m                 \u001b[1;32mreturn\u001b[0m \u001b[0mself\u001b[0m\u001b[1;33m.\u001b[0m\u001b[0m_getitem_multilevel\u001b[0m\u001b[1;33m(\u001b[0m\u001b[0mkey\u001b[0m\u001b[1;33m)\u001b[0m\u001b[1;33m\u001b[0m\u001b[1;33m\u001b[0m\u001b[0m\n\u001b[1;32m-> 2902\u001b[1;33m             \u001b[0mindexer\u001b[0m \u001b[1;33m=\u001b[0m \u001b[0mself\u001b[0m\u001b[1;33m.\u001b[0m\u001b[0mcolumns\u001b[0m\u001b[1;33m.\u001b[0m\u001b[0mget_loc\u001b[0m\u001b[1;33m(\u001b[0m\u001b[0mkey\u001b[0m\u001b[1;33m)\u001b[0m\u001b[1;33m\u001b[0m\u001b[1;33m\u001b[0m\u001b[0m\n\u001b[0m\u001b[0;32m   2903\u001b[0m             \u001b[1;32mif\u001b[0m \u001b[0mis_integer\u001b[0m\u001b[1;33m(\u001b[0m\u001b[0mindexer\u001b[0m\u001b[1;33m)\u001b[0m\u001b[1;33m:\u001b[0m\u001b[1;33m\u001b[0m\u001b[1;33m\u001b[0m\u001b[0m\n\u001b[0;32m   2904\u001b[0m                 \u001b[0mindexer\u001b[0m \u001b[1;33m=\u001b[0m \u001b[1;33m[\u001b[0m\u001b[0mindexer\u001b[0m\u001b[1;33m]\u001b[0m\u001b[1;33m\u001b[0m\u001b[1;33m\u001b[0m\u001b[0m\n",
      "\u001b[1;32me:\\python\\lib\\site-packages\\pandas\\core\\indexes\\base.py\u001b[0m in \u001b[0;36mget_loc\u001b[1;34m(self, key, method, tolerance)\u001b[0m\n\u001b[0;32m   2895\u001b[0m                 \u001b[1;32mreturn\u001b[0m \u001b[0mself\u001b[0m\u001b[1;33m.\u001b[0m\u001b[0m_engine\u001b[0m\u001b[1;33m.\u001b[0m\u001b[0mget_loc\u001b[0m\u001b[1;33m(\u001b[0m\u001b[0mcasted_key\u001b[0m\u001b[1;33m)\u001b[0m\u001b[1;33m\u001b[0m\u001b[1;33m\u001b[0m\u001b[0m\n\u001b[0;32m   2896\u001b[0m             \u001b[1;32mexcept\u001b[0m \u001b[0mKeyError\u001b[0m \u001b[1;32mas\u001b[0m \u001b[0merr\u001b[0m\u001b[1;33m:\u001b[0m\u001b[1;33m\u001b[0m\u001b[1;33m\u001b[0m\u001b[0m\n\u001b[1;32m-> 2897\u001b[1;33m                 \u001b[1;32mraise\u001b[0m \u001b[0mKeyError\u001b[0m\u001b[1;33m(\u001b[0m\u001b[0mkey\u001b[0m\u001b[1;33m)\u001b[0m \u001b[1;32mfrom\u001b[0m \u001b[0merr\u001b[0m\u001b[1;33m\u001b[0m\u001b[1;33m\u001b[0m\u001b[0m\n\u001b[0m\u001b[0;32m   2898\u001b[0m \u001b[1;33m\u001b[0m\u001b[0m\n\u001b[0;32m   2899\u001b[0m         \u001b[1;32mif\u001b[0m \u001b[0mtolerance\u001b[0m \u001b[1;32mis\u001b[0m \u001b[1;32mnot\u001b[0m \u001b[1;32mNone\u001b[0m\u001b[1;33m:\u001b[0m\u001b[1;33m\u001b[0m\u001b[1;33m\u001b[0m\u001b[0m\n",
      "\u001b[1;31mKeyError\u001b[0m: 'zone'"
     ]
    }
   ],
   "source": [
    "import pandas as pd\n",
    "import numpy as np\n",
    "import os\n",
    "from collections import defaultdict\n",
    "from datetime import *\n",
    "from fn import *\n",
    "from o_rpa_def import *\n",
    "from o_rpa_defonly import *\n",
    "import o_time as oT\n",
    "\n",
    "def colchk(df):\n",
    "    mcols = ['EQUIPMENTKEY','SITECODE','SUMMARY','ALERTKEY','LASTOCCURRENCE','CLEARTIMESTAMP']\n",
    "    ocols = ['RESOURCE','CUSTOMATTR15','SUMMARY','ALERTKEY','LASTOCCURRENCE','CLEARTIMESTAMP']\n",
    "    df = df.rename (columns=str.upper)\n",
    "    cols = df.columns.to_list()\n",
    "    if cols.count('SITECODE') != 0:\n",
    "        df = df.rename(columns={'SITECODE':'CUSTOMATTR15'})\n",
    "    if cols.count('EQUIPMENTKEY') != 0:\n",
    "        df = df.rename(columns={'EQUIPMENTKEY':'RESOURCE'})\n",
    "    for i in ocols:\n",
    "        if ocols.count(i) == 0:\n",
    "            print('must have column needs in table: but missing !',chr(10),mcols,chr(10),'exiting .....')\n",
    "            exit(0)\n",
    "    else:\n",
    "        sx = chrstream()\n",
    "        omnm(sx)\n",
    "        print(chr(10))\n",
    "        return df\n",
    "\n",
    "def inner_list_to_dic(dic):\n",
    "    for key, value in dic.items(): \n",
    "        dic[key] = set(value)\n",
    "    return dic\n",
    "\n",
    "def joinls(l1,l2):\n",
    "    lss = []\n",
    "    for i in l1:\n",
    "        for j in l2:\n",
    "            lss.append(str(i) + '$' + str(j))\n",
    "    return lss\n",
    "\n",
    "class o_dic:\n",
    "    def __init__(self,dff):\n",
    "        self.dc = defaultdict(dict)\n",
    "        self.df0 = colchk(dff)\n",
    "        self.df1 = catmap(self.df0, os.getcwd() + \"\\\\OMDB.csv\")\n",
    "        self.df = dff\n",
    "        self.testdc = {}\n",
    "        self.ls = []\n",
    "        self.lsky = []\n",
    "        self.lsvl = []\n",
    "    def add1(self, k, v, setsame = False):\n",
    "        if len(self.dc) != 0:\n",
    "            for i in self.dc:\n",
    "                if type(self.dc[i]) is dict:\n",
    "                    self.dc[i][k] = v if not list(self.dc[i]) else self.dc[i].get(k, []) + v\n",
    "                else:\n",
    "                    if setsame:\n",
    "                        self.dc[i] = self.dc.get(k, []) + v\n",
    "                    else:\n",
    "                        if type(self.dc[i]) is list:\n",
    "                            if v not in self.dc[i]:\n",
    "                                self.dc[i].append(v)\n",
    "                            else:\n",
    "                                self.dc[i].append([v])\n",
    "        else:\n",
    "            self.dc[0] = {k:v}\n",
    "            self.testdc = dict(zip(list(k),v))\n",
    "        self.ls.append(v)\n",
    "    def pnt(self):\n",
    "        print(self.dc)\n",
    "        print(self.ls)\n",
    "    def dc2np(self):\n",
    "        self.nar = np.array([self.dc[0] for item in self.dc[0]], dtype=object)\n",
    "        return self.nar\n",
    "    def dc2df(self):\n",
    "        #self.df = pd.DataFrame(self.dc[0])\n",
    "        self.df = pd.DataFrame(dict([ (k,pd.Series(v)) for k,v in self.dc[0].items() ]))\n",
    "        return self.df\n",
    "    def add2(self, k, v):\n",
    "        self.df = self.df[self.df[k].isin(v)]\n",
    "        self.lsky.append([k])\n",
    "        self.lsvl.append(v)\n",
    "        try:\n",
    "            self.df = self.df[self.df[k].isin(v)]\n",
    "        except:\n",
    "            print('except trigger')\n",
    "    def genx(self):\n",
    "        ln = len(self.lsky)\n",
    "        ls = []\n",
    "        cnt = 0\n",
    "        if ln>=2:\n",
    "            for i in range(ln):\n",
    "                cnt = cnt + 1\n",
    "                if len(ls) == 0:\n",
    "                    ls = joinls(self.lsval[i],self.lsval[cnt])\n",
    "                elif len(ls) != 0 and cnt<ln:\n",
    "                    lss = []\n",
    "                    lss = joinls(ls,self.lsval[cnt])\n",
    "                    ls = lss\n",
    "            else:\n",
    "                print(ls)\n",
    "\n",
    "msg = defaultdict(list)\n",
    "b1 = [['2G','3G','4G'],['MF','DL'],['P1','P2']]\n",
    "xy = [dict(zip(b1[0], values)) for values in b1]\n",
    "data = {'abc': ['aaa', 'bbb', 'ccc'], 'def': ['ddd', 'eee', 'fff']}\n",
    "b = {}\n",
    "a1 = {\"A1\": [\"T100\",'T200',['N200','N600','N700']]} \n",
    "a2 = {'0': {'three': {'five': ['2', '3', '5', '6', '8', '9'],'six': ['2', '3', '5', '6', '8', '9']}}, \n",
    "      '1': {'one': ['1', '11', '12','11', '12']}}\n",
    "a3 = {'B1':[['p1','p2','p3'],['q1','q3']]}\n",
    "b1 = [['2G','3G','4G'],['MF','DL'],['P1','P2']]\n",
    "b2 = [['2G','3G','4G',['MF','DL']],['P1','P2']]\n",
    "d1 = {'CAT': ['2g', '3g', '4g'], 'ZONE': ['NOA', 'COM']}\n",
    "df = pd.read_csv (os.getcwd() + \"\\\\sclick.csv\")\n",
    "dc = df.to_dict()\n",
    "ar = df.to_numpy()\n",
    "\n",
    "\n",
    "x = o_dic(df)\n",
    "x.add2('zone', ['COM','NOA'])\n",
    "x.add2('CAT', ['2G', '3G', '4G'])\n",
    "x.add2('Priority', ['P1','P2'])\n",
    "x.pnt()\n",
    "\n"
   ]
  },
  {
   "cell_type": "code",
   "execution_count": null,
   "metadata": {},
   "outputs": [],
   "source": []
  },
  {
   "cell_type": "code",
   "execution_count": 13,
   "metadata": {},
   "outputs": [
    {
     "name": "stdout",
     "output_type": "stream",
     "text": [
      "{'abc': {0: 'aaa', 1: 'bbb', 2: 'ccc'}, 'def': {0: 'ddd', 1: 'eee', 2: 'fff'}}\n"
     ]
    }
   ],
   "source": [
    "data = {'abc': ['aaa', 'bbb', 'ccc'], 'def': ['ddd', 'eee', 'fff']}\n",
    "dict2 = {}\n",
    "i = 0\n",
    "for key, value in data.items():\n",
    "    dict2[key] = {}\n",
    "    for element in value:\n",
    "        dict2[key][i] = element\n",
    "        i += 1\n",
    "    i = 0\n",
    "\n",
    "print(dict2)"
   ]
  },
  {
   "cell_type": "code",
   "execution_count": 19,
   "metadata": {},
   "outputs": [],
   "source": [
    "\n",
    "def dict2numpy(dc):\n",
    "    res = np.array([list(dc.values()) for item in dc.values()],dtype=object)\n",
    "    return res\n",
    "\n",
    "def inner_list_to_dic(dic):\n",
    "    for key, value in dic.items(): \n",
    "        dic[key] = set(value)\n",
    "    return dic\n"
   ]
  },
  {
   "cell_type": "code",
   "execution_count": 3,
   "metadata": {},
   "outputs": [
    {
     "name": "stdout",
     "output_type": "stream",
     "text": [
      "44 ~~~ []\n"
     ]
    }
   ],
   "source": [
    "\n",
    "#RECURSION FUNCTION\n",
    "def recursion_fn(vl):\n",
    "    ls = []\n",
    "    if (vl%11) != 0:\n",
    "        recursion_fn(vl-1)\n",
    "    else:\n",
    "        print(vl,'~~~',ls)\n",
    "\n",
    "\n",
    "def inif(*args):\n",
    "    for i in range(len(args)):\n",
    "        if type(args[i]) is dict:\n",
    "            dc = args[i]\n",
    "            for key, value in dc.items():\n",
    "                print(key, value)\n",
    "        elif type(args[i]) is list:\n",
    "            ls = args[i]\n",
    "            for n in range(len(ls)):\n",
    "                print(ls[n])\n",
    "        elif type(args[i]) is str:\n",
    "            st = args[i]\n",
    "            print(st)\n",
    "            \n",
    "#inif(a3,['p1','p2'],a2,\"omi\")"
   ]
  },
  {
   "cell_type": "code",
   "execution_count": 15,
   "metadata": {},
   "outputs": [
    {
     "name": "stdout",
     "output_type": "stream",
     "text": [
      "{'Group1': 'Group1', 'A': 'Group1', 'B': 'Group1', 'Group2': 'Group2', 'C': 'Group2', 'D': 'Group2'}\n"
     ]
    }
   ],
   "source": [
    "groups = [['Group1', 'A', 'B'], ['Group2', 'C', 'D']]\n",
    "result = {}\n",
    "for group in groups:\n",
    "    for item in group:\n",
    "        result[item] = group[0]\n",
    "print(result)"
   ]
  },
  {
   "cell_type": "code",
   "execution_count": 36,
   "metadata": {
    "scrolled": true
   },
   "outputs": [],
   "source": [
    "tree_list = ['MF', 'DL']\n",
    "a1 = {\"A1\": [\"T100\",'T200','T200'],'A2':['P100','P200','P300']} \n",
    "\n",
    "#for k, v in reversed(a1):\n",
    "    #a1[k] = {v: tree_list}\n",
    "    #print(a1)\n",
    "\n",
    "for k, v in a1.items():\n",
    "    a1[k][v] = ['MF']\n",
    "\n",
    "    \n",
    "    \n"
   ]
  },
  {
   "cell_type": "code",
   "execution_count": 21,
   "metadata": {},
   "outputs": [
    {
     "name": "stdout",
     "output_type": "stream",
     "text": [
      "['a', 'b', 'c', 'd']\n"
     ]
    }
   ],
   "source": [
    "import itertools\n",
    "a = [['a','b'], ['c','d']]\n",
    "print(list(itertools.chain.from_iterable(a)))"
   ]
  },
  {
   "cell_type": "code",
   "execution_count": 18,
   "metadata": {
    "scrolled": false
   },
   "outputs": [
    {
     "name": "stdout",
     "output_type": "stream",
     "text": [
      "[[['2G_M', '2G_F']]]\n",
      "[[['2G_M', '2G_F']], [['3G_D', '3G_L']]]\n"
     ]
    }
   ],
   "source": [
    "list1 = ['2G','3G','4G']\n",
    "list2 = ['MF','DL']\n",
    "lss = []\n",
    "\n",
    "test = []\n",
    "for key, values in zip(list1, list2):\n",
    "    if values:\n",
    "        values = [key + \"_\" + str(v) for v in values]\n",
    "        test.append([values])\n",
    "    else:\n",
    "        test.append([key])\n",
    "    print(test)"
   ]
  },
  {
   "cell_type": "code",
   "execution_count": null,
   "metadata": {},
   "outputs": [],
   "source": []
  },
  {
   "cell_type": "code",
   "execution_count": null,
   "metadata": {},
   "outputs": [],
   "source": []
  }
 ],
 "metadata": {
  "kernelspec": {
   "display_name": "Python 3",
   "language": "python",
   "name": "python3"
  },
  "language_info": {
   "codemirror_mode": {
    "name": "ipython",
    "version": 3
   },
   "file_extension": ".py",
   "mimetype": "text/x-python",
   "name": "python",
   "nbconvert_exporter": "python",
   "pygments_lexer": "ipython3",
   "version": "3.8.1"
  }
 },
 "nbformat": 4,
 "nbformat_minor": 4
}
