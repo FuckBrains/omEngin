{
 "cells": [
  {
   "cell_type": "code",
   "execution_count": 5,
   "metadata": {},
   "outputs": [
    {
     "name": "stdout",
     "output_type": "stream",
     "text": [
      "      Site_Code DG_Status Revenue_(in_K_BDT) Priority\n",
      "0       CXSDR09        No            1972.02       P1\n",
      "1       GGKSN21       Yes               0.00       P3\n",
      "2       CGPTA39        No            1493.49       P1\n",
      "3       CGHTZ03        No            1454.95       P1\n",
      "4       GPSRP08        No             331.18       P2\n",
      "...         ...       ...                ...      ...\n",
      "11883   JHKLG26        No                 NA       P3\n",
      "11884   SYGLP36        No                 NA       P3\n",
      "11885   CDSDR22        No                 NA       P3\n",
      "11886   BMASG20        No                 NA       P3\n",
      "11887   SYBLG37        No                 NA       P3\n",
      "\n",
      "[11888 rows x 4 columns]\n"
     ]
    }
   ],
   "source": [
    "import MySQLdb\n",
    "import pandas as pd\n",
    "\n",
    "\n",
    "def print_row_bynum(ar,rwnum,li):\n",
    "    #lrw = (ar).shape[0]\n",
    "    lcol = (ar).shape[1]\n",
    "    j = 0\n",
    "    heap = \"\"\n",
    "    while j < lcol:\n",
    "        hd = str(li[j]) + \":\" + str(ar[rwnum][j])\n",
    "        if j == 0:\n",
    "            heap = hd\n",
    "        else:\n",
    "            heap = heap + '/n' + hd\n",
    "        j = j + 1\n",
    "    return heap\n",
    "\n",
    "def vba_match(ar,src,colnum):\n",
    "    lrw = (ar).shape[0]\n",
    "    lcol = (ar).shape[1]\n",
    "    i = 0\n",
    "    while i < lrw:\n",
    "        if src == ar[i][0]:\n",
    "            break\n",
    "        i = i + 1\n",
    "    return i\n",
    "\n",
    "def fn_parse(ar,src,colnum):\n",
    "    lrw = (ar).shape[0]\n",
    "    lcol = (ar).shape[1]\n",
    "    i = 0\n",
    "    while i < lrw:\n",
    "        if src == ar[i][0]:\n",
    "            break\n",
    "        i = i + 1\n",
    "    return i\n",
    "\n",
    "\n",
    "\n",
    "   \n",
    "\n",
    "\n",
    "\n",
    "\n",
    "\n",
    "\n",
    "\n",
    "conn= MySQLdb.connect(\"localhost\",\"root\",\"admin\",\"omdb\")\n",
    "df = pd.read_sql(\"select * from sitedb\",conn)\n",
    "#print(df.head())\n",
    "ls = ['Site_Code', 'DG_Status','Revenue_(in_K_BDT)','Priority']\n",
    "df2 = df[ls]\n",
    "print(df2)\n",
    "lst = df2.columns.tolist()\n",
    "arr = df2.to_numpy()\n",
    "#fn_byrw(arr,50,lst)\n",
    "#print(vba_match(arr,'DHGUL19',1))\n",
    "    \n",
    "    \n"
   ]
  },
  {
   "cell_type": "code",
   "execution_count": null,
   "metadata": {},
   "outputs": [],
   "source": []
  },
  {
   "cell_type": "code",
   "execution_count": null,
   "metadata": {},
   "outputs": [],
   "source": []
  }
 ],
 "metadata": {
  "kernelspec": {
   "display_name": "Python 3",
   "language": "python",
   "name": "python3"
  },
  "language_info": {
   "codemirror_mode": {
    "name": "ipython",
    "version": 3
   },
   "file_extension": ".py",
   "mimetype": "text/x-python",
   "name": "python",
   "nbconvert_exporter": "python",
   "pygments_lexer": "ipython3",
   "version": "3.8.1"
  }
 },
 "nbformat": 4,
 "nbformat_minor": 4
}
