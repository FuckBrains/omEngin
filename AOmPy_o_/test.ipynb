{
 "cells": [
  {
   "cell_type": "code",
   "execution_count": 3,
   "metadata": {},
   "outputs": [
    {
     "name": "stdout",
     "output_type": "stream",
     "text": [
      "2832\n",
      "- - - - - - - - - - - - - - - - - -\n",
      "[      ____  __  __   _          \n",
      "      / __ \\|  \\/  | | |         \n",
      "     | |  | | \\  / | | |         \n",
      "     | |  | | |\\/| | | |         \n",
      "     | |__| | |  | | | |         \n",
      "      \\____/\\_|  |_| |_|        ]\n",
      "\n",
      "- - - - - - - - - - - - - - - - - -\n",
      "\n",
      "\n",
      "Index(['RESOURCE', 'CUSTOMATTR15', 'SUMMARY', 'ALERTKEY', 'LASTOCCURRENCE',\n",
      "       'CLEARTIMESTAMP', 'CAT', 'CODE', 'sCode', 'sZone', 'CODECAT', 'ZNCAT',\n",
      "       'CDLO', 'P1P2', 'ATRB', 'Name'],\n",
      "      dtype='object')\n",
      "Index(['RESOURCE', 'CUSTOMATTR15', 'SUMMARY', 'ALERTKEY', 'LASTOCCURRENCE',\n",
      "       'CLEARTIMESTAMP', 'CAT', 'CODE', 'sCode', 'sZone', 'CODECAT', 'ZNCAT',\n",
      "       'CDLO', 'P1P2', 'ATRB', 'Name', 'Company'],\n",
      "      dtype='object')\n",
      "pre row:  37\n",
      "post row:  37\n",
      "Index(['index', 'RESOURCE', 'CUSTOMATTR15', 'SUMMARY', 'ALERTKEY',\n",
      "       'LASTOCCURRENCE', 'CLEARTIMESTAMP', 'CAT', 'CODE', 'sCode', 'sZone',\n",
      "       'CODECAT', 'ZNCAT', 'CDLO', 'P1P2', 'ATRB', 'Name', 'Company', 'pk'],\n",
      "      dtype='object')\n",
      "\n",
      " \n",
      "\n"
     ]
    }
   ],
   "source": [
    "import pandas as pd\n",
    "import sys,os\n",
    "from pathlib import Path\n",
    "from lib_o_.rpaclss import *\n",
    "sys.path.append(str(Path(os.getcwd()).parent.parent.absolute()))\n",
    "\n",
    "zn = ['DHK_M','DHK_N','DHK_O','DHK_S','CTG_M','CTG_N','CTG_S','COM','NOA','BAR','KHL','KUS','MYM','RAJ','RANG','SYL']\n",
    "\n",
    "def format_one(df = False):\n",
    "    if df == False:\n",
    "        df = pd.read_csv(os.getcwd() + \"\\\\csv_o_\\\\sclick.csv\") \n",
    "        print(df.shape[0])\n",
    "    xx = RPA(df)\n",
    "    xx.csvmap(os.getcwd() + \"\\\\csv_o_\\\\vipsite.csv\",'CUSTOMATTR15')\n",
    "    #xx.timecal('LASTOCCURRENCE')\n",
    "    #xx.timefmt('DUR','%H:%M:%S')\n",
    "    xx.add_cond('sZone','DHK_M')\n",
    "    xx.add_cond('CAT',['DL'])\n",
    "    xx.apply_cond(['Company'], condition='NA', operation='remove') \n",
    "    xx.msgitems(['CUSTOMATTR15','LASTOCCURRENCE','Company'])\n",
    "    xx.rpagen()\n",
    "\n",
    "format_one()"
   ]
  },
  {
   "cell_type": "code",
   "execution_count": null,
   "metadata": {},
   "outputs": [],
   "source": []
  }
 ],
 "metadata": {
  "kernelspec": {
   "display_name": "Python 3",
   "language": "python",
   "name": "python3"
  },
  "language_info": {
   "codemirror_mode": {
    "name": "ipython",
    "version": 3
   },
   "file_extension": ".py",
   "mimetype": "text/x-python",
   "name": "python",
   "nbconvert_exporter": "python",
   "pygments_lexer": "ipython3",
   "version": "3.8.1"
  }
 },
 "nbformat": 4,
 "nbformat_minor": 4
}
