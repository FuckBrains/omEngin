{
 "cells": [
  {
   "cell_type": "code",
   "execution_count": 8,
   "metadata": {},
   "outputs": [
    {
     "name": "stdout",
     "output_type": "stream",
     "text": [
      "7\n",
      "2\n"
     ]
    }
   ],
   "source": [
    "\n",
    "\n",
    "\n",
    "class A:\n",
    "    def __init__(self, nm):\n",
    "        self.TS = nm\n",
    "    def add(self,N):\n",
    "        self.TS = self.TS + N\n",
    "        \n",
    "        \n",
    "class B:\n",
    "    def minus(self,N):\n",
    "        self.TS = self.TS - N\n",
    "        \n",
    "        \n",
    "        \n",
    "class C(A,B):\n",
    "    def rs(self):\n",
    "        print(self.TS)\n",
    "        \n",
    "\n",
    "        \n",
    "x = C(2)\n",
    "x.add(5)\n",
    "x.rs()\n",
    "x.minus(5)\n",
    "x.rs()"
   ]
  },
  {
   "cell_type": "code",
   "execution_count": null,
   "metadata": {},
   "outputs": [],
   "source": []
  },
  {
   "cell_type": "code",
   "execution_count": null,
   "metadata": {},
   "outputs": [],
   "source": []
  }
 ],
 "metadata": {
  "kernelspec": {
   "display_name": "Python 3",
   "language": "python",
   "name": "python3"
  },
  "language_info": {
   "codemirror_mode": {
    "name": "ipython",
    "version": 3
   },
   "file_extension": ".py",
   "mimetype": "text/x-python",
   "name": "python",
   "nbconvert_exporter": "python",
   "pygments_lexer": "ipython3",
   "version": "3.8.1"
  }
 },
 "nbformat": 4,
 "nbformat_minor": 4
}
