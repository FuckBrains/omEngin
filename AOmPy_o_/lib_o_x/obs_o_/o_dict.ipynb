{
 "cells": [
  {
   "cell_type": "code",
   "execution_count": 49,
   "metadata": {
    "scrolled": false
   },
   "outputs": [
    {
     "name": "stdout",
     "output_type": "stream",
     "text": [
      "{'A': ['a1', 'a2]', 'b1', 'a3']}\n"
     ]
    }
   ],
   "source": [
    "from collections import defaultdict\n",
    "\n",
    "def get_last_child(dc):\n",
    "    thischild = defaultdict(dict)\n",
    "    for k, v in dc.items():\n",
    "        if type(v) is dict:\n",
    "            thischild = dict((k, v) for k, v in dc.items())\n",
    "            print(thischild)\n",
    "            get_last_child(v)\n",
    "    else:\n",
    "        return thischild\n",
    "    \n",
    "def slicedf(keys,values):\n",
    "    D = {k: v for (k, v) in zip(keys, values)}\n",
    "    print(D)\n",
    "    \n",
    "nesdic = {\"A1\": [\"100\",'200']}\n",
    "\n",
    "#print(get_last_child(nesdic)) \n",
    "dc = {'0': {'three': {'five': ['2', '3', '5', '6', '8', '9'],'six': ['2', '3', '5', '6', '8', '9']}}, '1': {'one': ['1', '11', '12','11', '12']}}\n",
    "x = slicedf('AA',[['a1','a2'],'b1','a3'])\n"
   ]
  },
  {
   "cell_type": "code",
   "execution_count": null,
   "metadata": {},
   "outputs": [],
   "source": []
  },
  {
   "cell_type": "code",
   "execution_count": 61,
   "metadata": {
    "scrolled": true
   },
   "outputs": [
    {
     "data": {
      "text/plain": [
       "defaultdict(dict, {'CAT': ['2G', '3G', '4G']})"
      ]
     },
     "execution_count": 61,
     "metadata": {},
     "output_type": "execute_result"
    }
   ],
   "source": [
    "``"
   ]
  },
  {
   "cell_type": "code",
   "execution_count": null,
   "metadata": {},
   "outputs": [],
   "source": []
  },
  {
   "cell_type": "markdown",
   "metadata": {},
   "source": [
    "#### NESTED DICT"
   ]
  },
  {
   "cell_type": "code",
   "execution_count": 54,
   "metadata": {
    "scrolled": true
   },
   "outputs": [
    {
     "ename": "TypeError",
     "evalue": "add_ky_vl() missing 2 required positional arguments: 'ky' and 'vl'",
     "output_type": "error",
     "traceback": [
      "\u001b[1;31m---------------------------------------------------------------------------\u001b[0m",
      "\u001b[1;31mTypeError\u001b[0m                                 Traceback (most recent call last)",
      "\u001b[1;32m<ipython-input-54-84dd2e7429c1>\u001b[0m in \u001b[0;36m<module>\u001b[1;34m\u001b[0m\n\u001b[0;32m     57\u001b[0m \u001b[1;31m#x.additem('CUSTOMATTR15',\"PBSDR01\")\u001b[0m\u001b[1;33m\u001b[0m\u001b[1;33m\u001b[0m\u001b[1;33m\u001b[0m\u001b[0m\n\u001b[0;32m     58\u001b[0m \u001b[0mnesdic\u001b[0m \u001b[1;33m=\u001b[0m \u001b[1;33m{\u001b[0m\u001b[1;36m1\u001b[0m\u001b[1;33m:\u001b[0m \u001b[1;33m{\u001b[0m\u001b[1;34m\"A1\"\u001b[0m\u001b[1;33m:\u001b[0m \u001b[1;34m\"100\"\u001b[0m\u001b[1;33m}\u001b[0m\u001b[1;33m,\u001b[0m \u001b[1;36m2\u001b[0m\u001b[1;33m:\u001b[0m \u001b[1;33m{\u001b[0m\u001b[1;34m\"A2\"\u001b[0m\u001b[1;33m:\u001b[0m \u001b[1;34m\"200\"\u001b[0m\u001b[1;33m}\u001b[0m\u001b[1;33m,\u001b[0m \u001b[1;36m3\u001b[0m\u001b[1;33m:\u001b[0m \u001b[1;33m{\u001b[0m\u001b[1;34m'A3'\u001b[0m\u001b[1;33m:\u001b[0m\u001b[1;34m\"300\"\u001b[0m\u001b[1;33m}\u001b[0m\u001b[1;33m}\u001b[0m\u001b[1;33m\u001b[0m\u001b[1;33m\u001b[0m\u001b[0m\n\u001b[1;32m---> 59\u001b[1;33m \u001b[0mx1\u001b[0m \u001b[1;33m=\u001b[0m \u001b[0madd_ky_vl\u001b[0m\u001b[1;33m(\u001b[0m\u001b[0mnesdic\u001b[0m\u001b[1;33m)\u001b[0m\u001b[1;33m\u001b[0m\u001b[1;33m\u001b[0m\u001b[0m\n\u001b[0m\u001b[0;32m     60\u001b[0m \u001b[0mx2\u001b[0m \u001b[1;33m=\u001b[0m \u001b[0madd_ky_vl\u001b[0m\u001b[1;33m(\u001b[0m\u001b[0mnesdic\u001b[0m\u001b[1;33m,\u001b[0m\u001b[1;34m\"H1\"\u001b[0m\u001b[1;33m,\u001b[0m\u001b[1;33m[\u001b[0m\u001b[1;34m'asx'\u001b[0m\u001b[1;33m,\u001b[0m\u001b[1;34m'bsx'\u001b[0m\u001b[1;33m]\u001b[0m\u001b[1;33m)\u001b[0m\u001b[1;33m\u001b[0m\u001b[1;33m\u001b[0m\u001b[0m\n\u001b[0;32m     61\u001b[0m \u001b[0mprint\u001b[0m\u001b[1;33m(\u001b[0m\u001b[0mx2\u001b[0m\u001b[1;33m)\u001b[0m\u001b[1;33m\u001b[0m\u001b[1;33m\u001b[0m\u001b[0m\n",
      "\u001b[1;31mTypeError\u001b[0m: add_ky_vl() missing 2 required positional arguments: 'ky' and 'vl'"
     ]
    }
   ],
   "source": [
    "\n",
    "def kyvl_1(dic, ky, vl):\n",
    "    if type(vl) is not list:\n",
    "        x = [vl]\n",
    "        vl = x\n",
    "    dic[ky] = vl if not list(dic) else dic.get(ky, []) + vl #adding new key and value\n",
    "    return dic\n",
    "\n",
    "def kyvl_2(ky,vl):\n",
    "    dic.setdefault(ky, []).append(vl)\n",
    "    return dic\n",
    "\n",
    "def get_all_values(nested_dictionary):\n",
    "    childkey = []\n",
    "    for key, value in nested_dictionary.items():\n",
    "        if type(value) is dict:\n",
    "            get_all_values(value)\n",
    "        else:\n",
    "            childkey.append(key)\n",
    "    else:\n",
    "        return childkey\n",
    "\n",
    "class ndc:\n",
    "    def __init__(self):\n",
    "        self.msgdic = defaultdict(dict)\n",
    "    def diclen(self):\n",
    "        print(len(self.msgdic))\n",
    "        print(self.msgdic)\n",
    "    def additem(self,k,v):\n",
    "        lndc = len(list(self.msgdic))\n",
    "        if lndc > 0:\n",
    "            tmpdic = {}\n",
    "            for k in self.msgdic.keys():\n",
    "                ky = k\n",
    "                vl = self.msgdic.get(k)\n",
    "                tmpdic.update(kyvl_1(ky,vl))\n",
    "                print(tmpdic.update)\n",
    "        else:\n",
    "            self.msgdic[0] = v\n",
    "    def TTS(self, ky,vl):\n",
    "        nd = defaultdict(list)\n",
    "        indx = 0\n",
    "        for k, dv in self.msgdic.items():\n",
    "            if type(dv) is dict:\n",
    "                for k1, dv1 in dv.items():\n",
    "                    nd[k1] = dv1\n",
    "                else:\n",
    "                    nd[ky] = [vl] if not list(nd) else nd.get(ky, []) + vl\n",
    "                    print(nd)\n",
    "        else:\n",
    "            if len(list(self.msgdic)) == len(list(nd)):\n",
    "                self.msgdic.update({})\n",
    "\n",
    "\n",
    "    \n",
    "\n",
    "    \n",
    "\n",
    "nesdic = {1: {\"A1\": \"100\"}, 2: {\"A2\": \"200\"}, 3: {'A3':\"300\"}}\n",
    "x1 = add_ky_vl(nesdic)\n",
    "x2 = add_ky_vl(nesdic,\"H1\",['asx','bsx'])\n",
    "print(x2)"
   ]
  },
  {
   "cell_type": "code",
   "execution_count": 20,
   "metadata": {},
   "outputs": [
    {
     "ename": "NameError",
     "evalue": "name 'dic_append_2' is not defined",
     "output_type": "error",
     "traceback": [
      "\u001b[1;31m---------------------------------------------------------------------------\u001b[0m",
      "\u001b[1;31mNameError\u001b[0m                                 Traceback (most recent call last)",
      "\u001b[1;32m<ipython-input-20-79f6dc9b43b5>\u001b[0m in \u001b[0;36m<module>\u001b[1;34m\u001b[0m\n\u001b[0;32m     27\u001b[0m \u001b[1;31m#dic_append_2(gdic,\"A6\",\"501\")\u001b[0m\u001b[1;33m\u001b[0m\u001b[1;33m\u001b[0m\u001b[1;33m\u001b[0m\u001b[0m\n\u001b[0;32m     28\u001b[0m \u001b[0mdic\u001b[0m \u001b[1;33m=\u001b[0m \u001b[0mdefaultdict\u001b[0m\u001b[1;33m(\u001b[0m\u001b[0mdict\u001b[0m\u001b[1;33m)\u001b[0m\u001b[1;33m\u001b[0m\u001b[1;33m\u001b[0m\u001b[0m\n\u001b[1;32m---> 29\u001b[1;33m \u001b[0mdic_append_2\u001b[0m\u001b[1;33m(\u001b[0m\u001b[0mdic\u001b[0m\u001b[1;33m,\u001b[0m\u001b[1;34m\"A2\"\u001b[0m\u001b[1;33m,\u001b[0m\u001b[1;34m\"901\"\u001b[0m\u001b[1;33m)\u001b[0m\u001b[1;33m\u001b[0m\u001b[1;33m\u001b[0m\u001b[0m\n\u001b[0m",
      "\u001b[1;31mNameError\u001b[0m: name 'dic_append_2' is not defined"
     ]
    }
   ],
   "source": [
    "from collections import defaultdict\n",
    "\n",
    "def nested_dic(dc, k, v):\n",
    "    if len(dc)>0:\n",
    "        ln = len(list(dc))\n",
    "        for i in dc:\n",
    "            if k in list(dc[i]):\n",
    "                dc[i][k] = v if not list(dc[i]) else dc[i].get(k, []) + [v]\n",
    "                return dc\n",
    "        else:\n",
    "            if isinstance(v, list):\n",
    "                dc[ln+1] = {k:v}\n",
    "            else:\n",
    "                v1 = [v]\n",
    "                dc[ln+1] = {k:v1}\n",
    "            return dc\n",
    "    else:\n",
    "        if isinstance(v, list):\n",
    "            dc[0] = {k:v}\n",
    "        else:\n",
    "            v1 = [v]\n",
    "            dc[0] = {k:v1}\n",
    "        return dc\n",
    "        \n",
    "#gdic = {0: {\"A1\": ['100','101']}, 1: {\"A2\": ['200']}, 2: {'A3':['300','301']}}\n",
    "#dic_append_2(gdic,\"A6\",\"500\")\n",
    "#dic_append_2(gdic,\"A6\",\"501\")\n",
    "dic = defaultdict(dict)\n",
    "dic_append_2(dic,\"A2\",\"901\")"
   ]
  },
  {
   "cell_type": "code",
   "execution_count": 21,
   "metadata": {},
   "outputs": [],
   "source": [
    "def dic_append(dic0, ky, vl):\n",
    "    dic = defaultdict(list)\n",
    "    dic = dic0.copy()\n",
    "    dic[ky] = vl if not list(dic) else dic.get(ky, []) + [vl]\n",
    "    return dic\n",
    "\n",
    "def lpdic1(Liverpool):\n",
    "    for k, v in Liverpool.items():\n",
    "        for k1, v1 in v.items():\n",
    "            print(k, k1, v1)\n",
    "            \n",
    "gdic0 = {\"A1\": ['100','101'], \"A2\": ['200'],'A3':['300','301']}\n",
    "gdic2 = dic_append(gdic0,\"A1\",\"105\")\n",
    "gdic3 = dic_append(gdic2,\"A1\",\"106\")\n",
    "gdic3 = dic_append(gdic3,\"A4\",\"406\")\n",
    "\n",
    "allval = list(gdic3.values())\n",
    "allkey = list(gdic3)\n",
    "#print(allkey,chr(10), allval)\n",
    "#if \"A1\" in allkey:\n",
    "    #print(\"exist\")\n",
    "    \n",
    "def addcon(dc, k, v):\n",
    "    dv = list(gdic3.values())\n",
    "    if type(dv) is dict:\n",
    "        nd = dic_append(dv,k,v)\n",
    "        if len(nd) == len(dv):\n",
    "            ndc = dic_append(dc,k,dv)"
   ]
  },
  {
   "cell_type": "code",
   "execution_count": null,
   "metadata": {},
   "outputs": [],
   "source": []
  },
  {
   "cell_type": "code",
   "execution_count": null,
   "metadata": {},
   "outputs": [],
   "source": []
  }
 ],
 "metadata": {
  "kernelspec": {
   "display_name": "Python 3",
   "language": "python",
   "name": "python3"
  },
  "language_info": {
   "codemirror_mode": {
    "name": "ipython",
    "version": 3
   },
   "file_extension": ".py",
   "mimetype": "text/x-python",
   "name": "python",
   "nbconvert_exporter": "python",
   "pygments_lexer": "ipython3",
   "version": "3.8.1"
  }
 },
 "nbformat": 4,
 "nbformat_minor": 4
}
