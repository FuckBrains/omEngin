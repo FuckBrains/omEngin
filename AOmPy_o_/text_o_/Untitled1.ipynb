{
 "cells": [
  {
   "cell_type": "code",
   "execution_count": 17,
   "metadata": {},
   "outputs": [],
   "source": [
    "def w_text(filename,w_content):\n",
    "    try:\n",
    "        fp = open(filename,'w+')\n",
    "        ls = fp.write(w_content)\n",
    "        fp.close()\n",
    "    except:\n",
    "        try:\n",
    "            flname = os.getcwd() + '\\\\' + filename\n",
    "            fp = open(flname, 'w+')\n",
    "            fp.write(w_content)\n",
    "            fp.close()\n",
    "        except:\n",
    "            print('invalid path')"
   ]
  },
  {
   "cell_type": "code",
   "execution_count": null,
   "metadata": {},
   "outputs": [],
   "source": []
  }
 ],
 "metadata": {
  "kernelspec": {
   "display_name": "Python 3",
   "language": "python",
   "name": "python3"
  },
  "language_info": {
   "codemirror_mode": {
    "name": "ipython",
    "version": 3
   },
   "file_extension": ".py",
   "mimetype": "text/x-python",
   "name": "python",
   "nbconvert_exporter": "python",
   "pygments_lexer": "ipython3",
   "version": "3.8.1"
  }
 },
 "nbformat": 4,
 "nbformat_minor": 4
}
