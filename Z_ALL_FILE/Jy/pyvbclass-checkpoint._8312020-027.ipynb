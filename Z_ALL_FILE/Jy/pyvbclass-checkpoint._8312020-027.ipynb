{
 "cells": [
  {
   "cell_type": "code",
   "execution_count": 9,
   "metadata": {
    "scrolled": true
   },
   "outputs": [
    {
     "data": {
      "text/plain": [
       "'LastOccurrence:28/8/2020 2:53\\nTally:KHL_KUS_BAR_Com\\nCustomAttr11:e.co_Dhaka_Metro_West'"
      ]
     },
     "execution_count": 9,
     "metadata": {},
     "output_type": "execute_result"
    }
   ],
   "source": [
    "import MySQLdb\n",
    "import pandas as pd\n",
    "import os\n",
    "import numpy\n",
    "\n",
    "conn= MySQLdb.connect(\"localhost\",\"root\",\"admin\",\"omdb\")\n",
    "df = pd.read_sql(\"select * from sitedb\",conn)\n",
    "file = os.getcwd() + \"\\\\\" + \"sem_raw.csv\"\n",
    "\n",
    "class pyvb:\n",
    "    def __init__(self, dic, li=[]):\n",
    "        self.df = pd.DataFrame(dic)\n",
    "        self.arr = self.df.to_numpy()\n",
    "        self.lst = self.df[li]\n",
    "    def PrintDf(self):\n",
    "        print(self.df)\n",
    "    def PrintDf_ByList(self):\n",
    "        print(self.lst)\n",
    "    def MatchParse(self,zn,zncol,parsecol_1,parsecol_2,parsecol_3):\n",
    "        hp = \"\"\n",
    "        ndf = self.df[self.df[zncol].str.contains(zn, na=False)]\n",
    "        for ind in ndf.index:\n",
    "            code = str(ndf[parsecol_1][ind])\n",
    "            lo = str(ndf[parsecol_2][ind])\n",
    "            resource = str(ndf[parsecol_3][ind])\n",
    "            hp = hp + \" \\n\"  + code + \" || \" + lo + \" || \" + resource\n",
    "        z = zn + ': \\n' + hp\n",
    "        return z\n",
    "    def VbMatch_Col(self,search_val,colnum):\n",
    "        lrw = (self.arr).shape[0]\n",
    "        i = 0\n",
    "        while i < lrw:\n",
    "            if search_val == self.arr[i][colnum]:\n",
    "                break\n",
    "            i = i + 1\n",
    "        return i\n",
    "    def VbMatch_Row(self,search_val,rwnum):\n",
    "        lcol = (self.arr).shape[1]\n",
    "        i = 0\n",
    "        while i < lcol:\n",
    "            if search_val == self.arr[rwnum][i]:\n",
    "                break\n",
    "            i = i + 1\n",
    "        return i\n",
    "    def Row_Item_From_List(self,rwnum,lis):\n",
    "        ndf = self.df[lis]\n",
    "        ar = ndf.to_numpy()\n",
    "        lcol = (ar).shape[1]\n",
    "        j = 0\n",
    "        heap = \"\"\n",
    "        while j < lcol:\n",
    "            hd = str(lis[j]) + \":\" + str(ar[rwnum][j])\n",
    "            if j == 0:\n",
    "                heap = hd\n",
    "            else:\n",
    "                heap = heap + '\\n' + hd\n",
    "            j = j + 1\n",
    "        return heap\n",
    "    def VbFilter(self,colname,strval):\n",
    "        df2 = self.df[self.df[colname].str.contains(str_positive, na=False)]\n",
    "        return df2.to_dict()\n",
    "\n",
    "dfc = pd.read_csv(file)\n",
    "dic = dfc.to_dict()\n",
    "pv = pyvb(dic)\n",
    "mli = ['LastOccurrence', 'Tally','CustomAttr11']\n",
    "pv.Row_Item_From_List(9,mli)\n",
    "\n",
    "#pv2 = pyvb(dic,mli)\n",
    "#pv.PrintDf()\n",
    "#pv2.PrintDf_ByList()\n",
    "#gval = pv.MatchParse('DHKTL04','CustomAttr15','Resource','Summary','LastOccurrence')\n",
    "#print(gval)\n",
    "#print(pv.VbMatch_Col('DHKTL04',3))\n",
    "#print(pv.VbMatch_Row('CustomAttr15',0))\n",
    "#pv.PrintLst()      \n"
   ]
  },
  {
   "cell_type": "code",
   "execution_count": null,
   "metadata": {},
   "outputs": [],
   "source": []
  },
  {
   "cell_type": "code",
   "execution_count": null,
   "metadata": {},
   "outputs": [],
   "source": []
  },
  {
   "cell_type": "code",
   "execution_count": null,
   "metadata": {},
   "outputs": [],
   "source": []
  }
 ],
 "metadata": {
  "kernelspec": {
   "display_name": "Python 3",
   "language": "python",
   "name": "python3"
  },
  "language_info": {
   "codemirror_mode": {
    "name": "ipython",
    "version": 3
   },
   "file_extension": ".py",
   "mimetype": "text/x-python",
   "name": "python",
   "nbconvert_exporter": "python",
   "pygments_lexer": "ipython3",
   "version": "3.8.1"
  }
 },
 "nbformat": 4,
 "nbformat_minor": 4
}
