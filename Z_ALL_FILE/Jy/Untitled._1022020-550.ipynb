{
 "cells": [
  {
   "cell_type": "code",
   "execution_count": null,
   "metadata": {
    "scrolled": true
   },
   "outputs": [],
   "source": [
    "import pandas as pd\n",
    "import numpy as np\n",
    "import os\n",
    "import MySQLdb\n",
    "import csv\n",
    "\n",
    "conn= MySQLdb.connect(\"23.152.224.49\",\"akomi\",\"1q2w3eaz$\",\"omdb\")\n",
    "\n",
    "pt = os.getcwd()\n",
    "proxy = pt + '\\\\hideme.csv'\n",
    "db = pt + '\\\\ip2as.csv'\n",
    "\n",
    "def add_col(dA,c):\n",
    "    rw, col = dA.shape\n",
    "    lst = []\n",
    "    for i in range(rw):\n",
    "        x = dA[i][c]\n",
    "        y = x.rfind('.')\n",
    "        s = x[0:y]\n",
    "        lst.append(s)\n",
    "    dA = np.append(dA, np.array([lst]).transpose(), axis=1)\n",
    "    return dA\n",
    "\n",
    "dpx = pd.read_csv(proxy,delimiter=';')\n",
    "ddb = pd.read_csv(db)\n",
    "dpx1 = dpx[['ip','port']]\n",
    "dA = dpx1.to_numpy()\n",
    "z = add_col(dA,0)\n",
    "df1 = pd.DataFrame(z,columns=['ip','port','IPMOD'])\n",
    "df = pd.read_sql(\"select * from ipasn10\",conn)\n",
    "fdf = df1.merge(df, on='IPMOD')\n",
    "fdf.to_csv(pt + '\\\\merged.csv')\n",
    "print(fdf)\n"
   ]
  },
  {
   "cell_type": "code",
   "execution_count": null,
   "metadata": {},
   "outputs": [],
   "source": []
  }
 ],
 "metadata": {
  "kernelspec": {
   "display_name": "Python 3",
   "language": "python",
   "name": "python3"
  },
  "language_info": {
   "codemirror_mode": {
    "name": "ipython",
    "version": 3
   },
   "file_extension": ".py",
   "mimetype": "text/x-python",
   "name": "python",
   "nbconvert_exporter": "python",
   "pygments_lexer": "ipython3",
   "version": "3.8.1"
  }
 },
 "nbformat": 4,
 "nbformat_minor": 4
}
