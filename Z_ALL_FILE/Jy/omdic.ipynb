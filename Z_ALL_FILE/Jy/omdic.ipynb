{
 "cells": [
  {
   "cell_type": "markdown",
   "metadata": {},
   "source": [
    "##### Create Dictionary"
   ]
  },
  {
   "cell_type": "code",
   "execution_count": 4,
   "metadata": {},
   "outputs": [],
   "source": [
    "dc1 = {'1': 'uno', '2': 'dos', '3': 'tres'}\n",
    "dc2 = {'1': ['A','B'], '2': ['J','K'],'3':['X','Y']}\n",
    "dc3 = {('a','b','c'),('x','y','z')}"
   ]
  },
  {
   "cell_type": "markdown",
   "metadata": {},
   "source": [
    "##### Accessing Dic => Keys(), values(), Items() "
   ]
  },
  {
   "cell_type": "code",
   "execution_count": 5,
   "metadata": {},
   "outputs": [
    {
     "name": "stdout",
     "output_type": "stream",
     "text": [
      "dict_keys(['1', '2', '3'])\n",
      "dict_values([['A', 'B'], ['J', 'K'], ['X', 'Y']])\n",
      "dict_items([('1', ['A', 'B']), ('2', ['J', 'K']), ('3', ['X', 'Y'])])\n"
     ]
    }
   ],
   "source": [
    "print(dc2.keys())\n",
    "print(dc2.values())\n",
    "print(dc2.items())"
   ]
  },
  {
   "cell_type": "markdown",
   "metadata": {},
   "source": [
    "##### merging 3 dictionary"
   ]
  },
  {
   "cell_type": "code",
   "execution_count": 16,
   "metadata": {},
   "outputs": [
    {
     "name": "stdout",
     "output_type": "stream",
     "text": [
      "{'x': 10, 'y': 30, 'z': 40, 'm': 100, 'n': 200}\n"
     ]
    }
   ],
   "source": [
    "A = {'x': 10, 'y': 20}\n",
    "B = {'y': 30, 'z': 40}\n",
    "A.update(B)\n",
    "A.update({'m':100,'n':200})\n",
    "print(A)"
   ]
  },
  {
   "cell_type": "markdown",
   "metadata": {},
   "source": [
    "##### Method => get()"
   ]
  },
  {
   "cell_type": "code",
   "execution_count": null,
   "metadata": {},
   "outputs": [],
   "source": [
    "print(A.get('x'))"
   ]
  },
  {
   "cell_type": "markdown",
   "metadata": {},
   "source": [
    "##### create dictionary merging 2 list"
   ]
  },
  {
   "cell_type": "code",
   "execution_count": 22,
   "metadata": {},
   "outputs": [
    {
     "name": "stdout",
     "output_type": "stream",
     "text": [
      "{1: ['1', '2', '3'], 2: ['a', 'b', 'c']}\n"
     ]
    }
   ],
   "source": [
    "ls1 = ['1','2','3']\n",
    "ls2 = ['a','b','c']\n",
    "dc5 = {1: ls1, 2: ls2}\n",
    "print(dc5)"
   ]
  },
  {
   "cell_type": "code",
   "execution_count": null,
   "metadata": {},
   "outputs": [],
   "source": []
  }
 ],
 "metadata": {
  "kernelspec": {
   "display_name": "Python 3",
   "language": "python",
   "name": "python3"
  },
  "language_info": {
   "codemirror_mode": {
    "name": "ipython",
    "version": 3
   },
   "file_extension": ".py",
   "mimetype": "text/x-python",
   "name": "python",
   "nbconvert_exporter": "python",
   "pygments_lexer": "ipython3",
   "version": "3.8.1"
  }
 },
 "nbformat": 4,
 "nbformat_minor": 4
}
