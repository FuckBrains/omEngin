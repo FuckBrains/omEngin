{
 "cells": [
  {
   "cell_type": "code",
   "execution_count": 1,
   "metadata": {},
   "outputs": [],
   "source": [
    "import pandas as pd\n",
    "import numpy as np\n",
    "import os\n",
    "import MySQLdb\n",
    "from datetime import *\n",
    "\n",
    "db = os.getcwd() + \"\\\\OMDB.csv\"\n",
    "semcol = os.getcwd() + \"\\\\semcols.txt\"\n",
    "cat = os.getcwd() + \"\\\\catdef.txt\"\n",
    "conn= MySQLdb.connect(\"localhost\",\"root\",\"admin\",\"om2\")\n",
    "\n",
    "x = datetime.now()\n",
    "y = datetime.strftime(x, \"%m-%d-%Y %H:%M:%S\")\n",
    "svpt = os.getcwd() + \"\\\\OMDW.csv\"\n",
    "df = pd.read_csv(svpt)\n",
    "df['LASTOCCURRENCE'] = pd.to_datetime(df['LASTOCCURRENCE'])\n",
    "df['LASTOCCURRENCE'] = df['LASTOCCURRENCE'].map(lambda x: x.strftime(\"%d/%m/%Y %H:%M:%S\"))\n",
    "df = df.assign(NW = y)\n",
    "df['DUR'] = df.apply(lambda x : pd.to_datetime(x.NW) - pd.to_datetime(x.LASTOCCURRENCE) ,axis=1)\n",
    "df['DUR'] = df['DUR'].astype('timedelta64[m]')\n",
    "#df['LASTOCCURRENCE'] = df['LASTOCCURRENCE'].map(lambda x: x.strftime(\"%d/%m/%Y %H:%M:%S\"))\n",
    "#df = df.assign(NW = y)\n",
    "#print(df.dtypes)\n",
    "#df['DUR'] = pd.to_datetime(y - pd.to_datetime(df['LASTOCCURRENCE'])\n",
    "#df['DUR'] = df.apply(lambda x : y - pd.to_datetime(x.LASTOCCURRENCE)) ,axis=1)"
   ]
  },
  {
   "cell_type": "code",
   "execution_count": null,
   "metadata": {},
   "outputs": [],
   "source": [
    "df"
   ]
  },
  {
   "cell_type": "code",
   "execution_count": null,
   "metadata": {},
   "outputs": [],
   "source": []
  },
  {
   "cell_type": "code",
   "execution_count": null,
   "metadata": {},
   "outputs": [],
   "source": []
  },
  {
   "cell_type": "code",
   "execution_count": null,
   "metadata": {},
   "outputs": [],
   "source": []
  }
 ],
 "metadata": {
  "kernelspec": {
   "display_name": "Python 3",
   "language": "python",
   "name": "python3"
  },
  "language_info": {
   "codemirror_mode": {
    "name": "ipython",
    "version": 3
   },
   "file_extension": ".py",
   "mimetype": "text/x-python",
   "name": "python",
   "nbconvert_exporter": "python",
   "pygments_lexer": "ipython3",
   "version": "3.8.1"
  }
 },
 "nbformat": 4,
 "nbformat_minor": 4
}
