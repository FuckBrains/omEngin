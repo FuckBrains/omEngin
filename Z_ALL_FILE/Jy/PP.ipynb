{
 "cells": [
  {
   "cell_type": "code",
   "execution_count": 8,
   "metadata": {},
   "outputs": [],
   "source": [
    "import time as tm\n",
    "import os, cx_Oracle\n",
    "from datetime import *\n",
    "import numpy as np\n",
    "import pandas as pd\n",
    "\n",
    "\n",
    "TS = lambda x : '2G' if ('2G SITE DOWN' in x) \\\n",
    "                else ('3G' if ('3G SITE DOWN' in x) \\\n",
    "                else ('4G' if ('4G SITE DOWN' in x) \\\n",
    "                else ('MF' if ('MAIN' in x) \\\n",
    "                else ('DC' if ('VOLTAGE' in x) \\\n",
    "                else ('TM' if ('TEMPERATURE' in x) \\\n",
    "                else ('SM' if ('SMOKE' in x) \\\n",
    "                else ('GN' if ('GEN' in x) \\\n",
    "                else ('GN' if ('GENSET' in x) \\\n",
    "                else ('TH' if ('THEFT' in x) \\\n",
    "                else ('CELL' if ('CELL' in x) \\\n",
    "                else \"NA\"))))))))))\n",
    "\n",
    "\n",
    "pt = os.getcwd() + \"\\\\book1.csv\"\n",
    "df = pd.read_csv(pt)\n",
    "df = df.astype (str)\n",
    "df = df.rename (columns=str.upper)\n",
    "df1 = df[['SERIAL','SUMMARY','CUSTOMATTR15','CUSTOMATTR11','LASTOCCURRENCE']]\n",
    "df1 = df1.assign(DHM ='0')\n",
    "df1['DHM'] = df.apply(lambda x: pd.to_datetime(x['LASTOCCURRENCE'], dayfirst=True).strftime(\"%m%d%H%M\"), axis = 1)\n",
    "df1 = df1.sort_values(by=['DHM'], ascending=True)\n",
    "df1 = df1.reset_index()\n",
    "df1 = df1.assign(CAT ='0')\n",
    "df1 = df1.assign(CAT5 ='0')\n",
    "df1['CAT'] = df.apply(lambda x : TS(x.SUMMARY), axis = 1)\n",
    "\n",
    "\n",
    "x = df1.shape[0]\n",
    "df1['DHM'] = df1['DHM'].astype(int)\n",
    "st = int(df1.loc[0,'DHM'])\n",
    "precode = '0'\n",
    "x1 = 0\n",
    "for i in range(len(df1)):\n",
    "    code = df1.loc[i,'CUSTOMATTR15']\n",
    "    if x1 == 10:\n",
    "        st = st + 5\n",
    "        x1 = 0\n",
    "    if int(df1.loc[i,'DHM']) > st:\n",
    "        if precode != code:\n",
    "            precode = code\n",
    "            st = int(df1.loc[i,'DHM']) + 5\n",
    "            df1.loc[i,'CAT5'] = st\n",
    "        else:\n",
    "            df1.loc[i,'CAT5'] = st\n",
    "            x1 = x1 + 1\n",
    "    else:\n",
    "        df1.loc[i,'CAT5'] = st\n",
    "        precode = code\n",
    "        \n",
    "df1.to_csv(os.getcwd() + \"\\\\BK2\")\n",
    "df1 = df1.astype(str)\n",
    "df2 = df1.groupby(['CAT','CAT5','CUSTOMATTR15'])\n"
   ]
  },
  {
   "cell_type": "code",
   "execution_count": 13,
   "metadata": {},
   "outputs": [
    {
     "data": {
      "text/plain": [
       "CAT  CAT5      CUSTOMATTR15\n",
       "2G   12050958  RPPGC22         12050958\n",
       "     12051025  SKSDR09         12051025\n",
       "     12051131  CXUKH32         12051131\n",
       "               RPPGN14         12051131\n",
       "     12051137  BMASG33         12051137\n",
       "                                 ...   \n",
       "TM   9270032   UNKNOWN          9270032\n",
       "     9271339   NTSDR13          9271339\n",
       "     9280753   CGKTLM0          9280753\n",
       "     9282305   NRKLA07          9282305\n",
       "     9290462   CGRZN24          9290462\n",
       "Name: CAT5, Length: 4412, dtype: object"
      ]
     },
     "execution_count": 13,
     "metadata": {},
     "output_type": "execute_result"
    }
   ],
   "source": [
    "df2['CAT5'].sum()"
   ]
  },
  {
   "cell_type": "code",
   "execution_count": null,
   "metadata": {},
   "outputs": [],
   "source": []
  }
 ],
 "metadata": {
  "kernelspec": {
   "display_name": "Python 3",
   "language": "python",
   "name": "python3"
  },
  "language_info": {
   "codemirror_mode": {
    "name": "ipython",
    "version": 3
   },
   "file_extension": ".py",
   "mimetype": "text/x-python",
   "name": "python",
   "nbconvert_exporter": "python",
   "pygments_lexer": "ipython3",
   "version": "3.8.1"
  }
 },
 "nbformat": 4,
 "nbformat_minor": 4
}
