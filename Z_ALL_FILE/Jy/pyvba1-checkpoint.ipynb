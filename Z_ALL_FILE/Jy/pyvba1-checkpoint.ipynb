{
 "cells": [
  {
   "cell_type": "code",
   "execution_count": 1,
   "metadata": {},
   "outputs": [
    {
     "ename": "IndentationError",
     "evalue": "expected an indented block (<ipython-input-1-2a6d2f094e8a>, line 9)",
     "output_type": "error",
     "traceback": [
      "\u001b[1;36m  File \u001b[1;32m\"<ipython-input-1-2a6d2f094e8a>\"\u001b[1;36m, line \u001b[1;32m9\u001b[0m\n\u001b[1;33m    def print_row_bynum(ar,rwnum,li):\u001b[0m\n\u001b[1;37m                                     ^\u001b[0m\n\u001b[1;31mIndentationError\u001b[0m\u001b[1;31m:\u001b[0m expected an indented block\n"
     ]
    }
   ],
   "source": [
    "import MySQLdb\n",
    "import pandas as pd\n",
    "\n",
    "\n",
    "class pyvba:\n",
    "    def __init__():\n",
    "\n",
    "\n",
    "\n",
    "def print_row_bynum(ar,rwnum,li):\n",
    "    #lrw = (ar).shape[0]\n",
    "    lcol = (ar).shape[1]\n",
    "    j = 0\n",
    "    heap = \"\"\n",
    "    while j < lcol:\n",
    "        hd = str(li[j]) + \":\" + str(ar[rwnum][j])\n",
    "        if j == 0:\n",
    "            heap = hd\n",
    "        else:\n",
    "            heap = heap + '/n' + hd\n",
    "        j = j + 1\n",
    "    return heap\n",
    "\n",
    "def vba_match(ar,src,colnum):\n",
    "    lrw = (ar).shape[0]\n",
    "    lcol = (ar).shape[1]\n",
    "    i = 0\n",
    "    while i < lrw:\n",
    "        if src == ar[i][0]:\n",
    "            break\n",
    "        i = i + 1\n",
    "    return i\n",
    "\n",
    "def fn_parse(ar,src,colnum):\n",
    "    lrw = (ar).shape[0]\n",
    "    lcol = (ar).shape[1]\n",
    "    i = 0\n",
    "    while i < lrw:\n",
    "        if src == ar[i][0]:\n",
    "            break\n",
    "        i = i + 1\n",
    "    return i\n",
    "\n",
    "\n",
    "\n",
    "   \n",
    "\n",
    "\n",
    "\n",
    "\n",
    "\n",
    "\n",
    "\n",
    "conn= MySQLdb.connect(\"localhost\",\"root\",\"admin\",\"omdb\")\n",
    "df = pd.read_sql(\"select * from sitedb\",conn)\n",
    "#print(df.head())\n",
    "df2 = df[['Site_Code', 'DG_Status','Revenue_(in_K_BDT)','Priority']]\n",
    "lst = df2.columns.tolist()\n",
    "arr = df2.to_numpy()\n",
    "#fn_byrw(arr,50,lst)\n",
    "#print(vba_match(arr,'DHGUL19',1))\n",
    "    \n",
    "    \n"
   ]
  },
  {
   "cell_type": "code",
   "execution_count": null,
   "metadata": {},
   "outputs": [],
   "source": []
  },
  {
   "cell_type": "code",
   "execution_count": null,
   "metadata": {},
   "outputs": [],
   "source": []
  }
 ],
 "metadata": {
  "kernelspec": {
   "display_name": "Python 3",
   "language": "python",
   "name": "python3"
  },
  "language_info": {
   "codemirror_mode": {
    "name": "ipython",
    "version": 3
   },
   "file_extension": ".py",
   "mimetype": "text/x-python",
   "name": "python",
   "nbconvert_exporter": "python",
   "pygments_lexer": "ipython3",
   "version": "3.8.1"
  }
 },
 "nbformat": 4,
 "nbformat_minor": 4
}
