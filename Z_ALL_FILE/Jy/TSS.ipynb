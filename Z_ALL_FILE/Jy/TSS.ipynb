{
 "cells": [
  {
   "cell_type": "code",
   "execution_count": 2,
   "metadata": {
    "scrolled": false
   },
   "outputs": [],
   "source": [
    "from datetime import *\n",
    "from dateutil.parser import *\n",
    "from dateutil.tz import *\n",
    "from dateutil.relativedelta import *\n",
    "from fn import *\n",
    "import os\n",
    "\n",
    "\n",
    "def datetime_re_format(ls, fmt='%d/%m/%Y %H:%M'):\n",
    "    #serialize and convert using dateutil.parser and datetime.strftime\n",
    "    if ls is not None and isinstance(ls, list):\n",
    "        lss = []\n",
    "        for i in range(len(ls)):\n",
    "            try:\n",
    "                dt = parse(str(ls[i])).strftime(fmt)\n",
    "                lss.append(dt)\n",
    "            except:\n",
    "                lss.append(ls[i])\n",
    "        else:\n",
    "            return lss\n",
    "\n",
    "diffdate = lambda T1, T2 : (datetime.strptime(T2, \"%d/%m/%Y %H:%M\") - datetime.strptime(T1, \"%d/%m/%Y %H:%M\")).total_seconds()/60\n",
    "diff_from_now = lambda locc : (datetime.now() - datetime.strptime(locc, \"%d/%m/%Y %H:%M\")).total_seconds()/60\n",
    "\n",
    "def makelist_dttm_now(ln):\n",
    "    nw = datetime.now()\n",
    "    st = nw.strftime(\"%d/%m/%Y %H:%M\")\n",
    "    ls = []\n",
    "    for i in range(ln):\n",
    "        ls.append(st)\n",
    "    return ls\n",
    "\n",
    "def formatchk(L1):\n",
    "    if isinstance(L1, list):\n",
    "        return L1\n",
    "    elif isinstance(L1, pd.core.series.Series):\n",
    "        ls = L1.to_list()\n",
    "        return ls\n",
    "        \n",
    "\n",
    "def DateDif(DT1, DT2 = None):\n",
    "    TM1 = formatchk(DT1)\n",
    "    if DT2 is None:\n",
    "        TM2 = makelist_dttm_now(len(DT1))\n",
    "    else:\n",
    "        TM2 = formatchk(DT2)\n",
    "    try:\n",
    "        TM11 = datetime_re_format(TM1)\n",
    "        TM22 = datetime_re_format(TM2)\n",
    "        dur = list(map (lambda LO , CL: diffdate(LO,CL) if ('1970' not in str(CL)) else diff_from_now(LO), TM11, TM22))\n",
    "        return dur\n",
    "    except:\n",
    "        dur = list(map (lambda LO , CL: diffdate(LO,CL) if ('1970' not in str(CL)) else diff_from_now(LO), TM1, TM2))\n",
    "        return dur\n",
    "\n",
    "\n",
    "#df1 = df.drop_duplicates(subset=['SUMMARY'],ignore_index=True)\n",
    "#df1 = df.drop_duplicates(subset=['CUSTOMATTR15'])\n",
    "#df1 = df1.reset_index()\n",
    "#print(df1, df1.index)\n",
    "#df1.set_index([pd.Index(np.full((1, len(df1), ), 'year'])\n",
    "#ls1 = makelist_dttm_now(df.shape[0])\n",
    "#ls2 = df['LASTOCCURRENCE'].to_list()\n",
    "#s = DateDif(df['LASTOCCURRENCE'])\n",
    "#df['dur'] = np.array(DateDif(df['LASTOCCURRENCE'],df['CLEARTIMESTAMP']))\n",
    "##--- Succ --#\n",
    "#T1 =[\"2003-09-25 18:05:01\",\"09-25-2003 01:45:00\",\"25-09-2003 12:01:04\"]\n",
    "#nw = datetime.now()\n",
    "#st = nw.strftime(\"%d/%m/%Y %H:%M\")\n",
    "#T2 = np.full((1, len(T1)), st)\n",
    "\n",
    "##successfully calling function da\n",
    "###dtm =[\"2003-09-25 18:05:01\",\"09-25-2003 01:45:00\",\"25-09-2003 12:01:04\"]\n",
    "###datetime_re_format(dtm, \"%Y/%m/%d %H:%M\")\n",
    "\n",
    "#------------dataframe calculation Succ---------------------#\n",
    "#df.assign(dur = 'x')\n",
    "#df['dur'] = np.array(DateDiff(df['LASTOCCURRENCE'],df['CLEARTIMESTAMP']))\n",
    "#lst = DDiff(df['LASTOCCURRENCE'])\n",
    "#df['DUR'] = np.array(lst)\n",
    "#df['DUR']\n",
    "#--------------------------------------#"
   ]
  },
  {
   "cell_type": "code",
   "execution_count": 11,
   "metadata": {},
   "outputs": [
    {
     "ename": "SyntaxError",
     "evalue": "expression cannot contain assignment, perhaps you meant \"==\"? (<ipython-input-11-1164562c6995>, line 12)",
     "output_type": "error",
     "traceback": [
      "\u001b[1;36m  File \u001b[1;32m\"<ipython-input-11-1164562c6995>\"\u001b[1;36m, line \u001b[1;32m12\u001b[0m\n\u001b[1;33m    df1 = df1.assign('SAMEINC' ='0')\u001b[0m\n\u001b[1;37m                     ^\u001b[0m\n\u001b[1;31mSyntaxError\u001b[0m\u001b[1;31m:\u001b[0m expression cannot contain assignment, perhaps you meant \"==\"?\n"
     ]
    }
   ],
   "source": [
    "pt = os.getcwd() + \"\\\\sclick.csv\"\n",
    "df = pd.read_csv(pt)\n",
    "df = df.astype (str)\n",
    "df = df.rename (columns=str.upper)\n",
    "df1 = df[['SERIAL','SUMMARY','CUSTOMATTR15','CUSTOMATTR11','CLEARTIMESTAMP','LASTOCCURRENCE']]\n",
    "df1 = df1.assign(DHM ='0')\n",
    "df1['DHM'] = df.apply(lambda x: pd.to_datetime(x['LASTOCCURRENCE'], dayfirst=True).strftime(\"%m%d%H%M\"), axis = 1)\n",
    "df1 = df1.sort_values(by=['DHM'], ascending=True)\n",
    "df1 = df1.reset_index()\n",
    "df1 = df1.assign(CAT5 ='0')\n",
    "df1 = df1.assign(CAT15 ='0')\n",
    "x = df1.shape[0]\n",
    "df1['DHM'] = df1['DHM'].astype(int)\n",
    "st = int(df1.loc[0,'DHM'])\n",
    "for i in range(len(df1)):\n",
    "    if int(df1.loc[i,'DHM']) > st:\n",
    "        df1.loc[i,'CAT5'] = st\n",
    "        st = int(df1.loc[i,'DHM']) + 5\n",
    "    else:\n",
    "        df1.loc[i,'CAT5'] = st\n",
    "pre = ''    \n",
    "st2 = int(df1.loc[0,'CAT5'])\n",
    "dic = {}\n",
    "for i in range(len(df1)):\n",
    "    if int(df1.loc[i,'CAT5']) > st:\n",
    "        df1.loc[i,'CAT15'] = st\n",
    "        st = int(df1.loc[i,'CAT5']) + 15\n",
    "    else:\n",
    "        df1.loc[i,'CAT15'] = st\n",
    "        \n"
   ]
  },
  {
   "cell_type": "code",
   "execution_count": 9,
   "metadata": {},
   "outputs": [],
   "source": [
    "df2 = df1.groupby(['CUSTOMATTR15', 'CAT5']).sum().to_frame(name = 'SMX').reset_index()"
   ]
  },
  {
   "cell_type": "code",
   "execution_count": 10,
   "metadata": {},
   "outputs": [],
   "source": [
    "df2.to_csv(os.getcwd() + \"\\\\sc2.csv\")"
   ]
  },
  {
   "cell_type": "code",
   "execution_count": null,
   "metadata": {},
   "outputs": [],
   "source": []
  },
  {
   "cell_type": "code",
   "execution_count": null,
   "metadata": {},
   "outputs": [],
   "source": []
  }
 ],
 "metadata": {
  "kernelspec": {
   "display_name": "Python 3",
   "language": "python",
   "name": "python3"
  },
  "language_info": {
   "codemirror_mode": {
    "name": "ipython",
    "version": 3
   },
   "file_extension": ".py",
   "mimetype": "text/x-python",
   "name": "python",
   "nbconvert_exporter": "python",
   "pygments_lexer": "ipython3",
   "version": "3.8.1"
  }
 },
 "nbformat": 4,
 "nbformat_minor": 4
}
