{
 "cells": [
  {
   "cell_type": "code",
   "execution_count": null,
   "metadata": {},
   "outputs": [],
   "source": [
    "import time\n",
    "from datetime import date\n",
    "import omdtfn as odt\n",
    "import pandas as pd\n",
    "import cx_Oracle\n",
    "\n",
    "def rru_lastday(tbl,usr, pas, selcol):\n",
    "    conn = cx_Oracle.connect(usr, pas, 'ossam-cluster-scan.robi.com.bd:1721/RBPB.robi.com.bd')\n",
    "    print(conn.version)\n",
    "    tim = time.localtime()\n",
    "    tdy = date.today()\n",
    "    foldr = os.getcwd() + \"\\\\download\\\\\" + tdy.strftime('%m%d%y') + time.strftime(\"%H%M\", tim) + '_' + tbl + '.csv'\n",
    "    dy_p = odt.day_minus(1)\n",
    "    dy_f = odt.day_plus(1)\n",
    "    Q1 = \"FROM \" + tbl + \" WHERE TYPE=1 AND SUMMARY LIKE 'ERI-RRU THEFT' \"\n",
    "    Q2 = \"AND (LASTOCCURRENCE BETWEEN TO_DATE('\" + dy_p + \"','DD-MM-RRRR') AND TO_DATE('\" + dy_f + \"','DD-MM-RRRR'))\"\n",
    "    QF = \"SELECT\" + selcol + Q1 + Q2\n",
    "    print(QF)\n",
    "    print('----------------')\n",
    "    df = pd.read_sql(QF, con=conn)\n",
    "    conn.close()\n",
    "    df.to_csv(os.getcwd() + \"\\\\\" + \"DW1709.csv\")\n",
    "    return df.to_dict()\n",
    "\n",
    "def all_active(tbl,usr, pas, selcol):\n",
    "    conn = cx_Oracle.connect(usr, pas, 'ossam-cluster-scan.robi.com.bd:1721/RBPB.robi.com.bd')\n",
    "    print(conn.version)\n",
    "    tim = time.localtime()\n",
    "    tdy = date.today()\n",
    "    foldr = os.getcwd() + \"\\\\download\\\\\" + tdy.strftime('%m%d%y') + time.strftime(\"%H%M\", tim) + '_' + tbl + '.csv'\n",
    "    dy_p = odt.day_minus(7)\n",
    "    dy_f = odt.day_plus(1)\n",
    "    Q1 = \"FROM \" + tbl + \" WHERE TYPE=1 AND Severity BETWEEN 1 AND 5 \"\n",
    "    Q2 = \"AND (LASTOCCURRENCE BETWEEN TO_DATE('\" + dy_p + \"','DD-MM-RRRR') AND TO_DATE('\" + dy_f + \"','DD-MM-RRRR'))\"\n",
    "    QF = \"SELECT\" + selcol + Q1 + Q2\n",
    "    print(QF)\n",
    "    print('----------------')\n",
    "    df = pd.read_sql(QF, con=conn)\n",
    "    conn.close()\n",
    "    df.to_csv(os.getcwd() + \"\\\\\" + \"active_all.csv\")\n",
    "    return df.to_dict()\n"
   ]
  }
 ],
 "metadata": {
  "kernelspec": {
   "display_name": "Python 3",
   "language": "python",
   "name": "python3"
  },
  "language_info": {
   "codemirror_mode": {
    "name": "ipython",
    "version": 3
   },
   "file_extension": ".py",
   "mimetype": "text/x-python",
   "name": "python",
   "nbconvert_exporter": "python",
   "pygments_lexer": "ipython3",
   "version": "3.8.1"
  }
 },
 "nbformat": 4,
 "nbformat_minor": 4
}
