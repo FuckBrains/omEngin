{
 "cells": [
  {
   "cell_type": "code",
   "execution_count": null,
   "metadata": {
    "scrolled": true
   },
   "outputs": [],
   "source": [
    "import pandas as pd\n",
    "import numpy as np\n",
    "import os\n",
    "from datetime import date\n",
    "import itertools\n",
    "\n",
    "cols = [\"Resource\",\"CustomAttr15\",\"Summary\",\"LastOccurrence\",\"CustomAttr11\"] #Range [A-E]\n",
    "single = os.getcwd() + \"\\\\\" + \"single.csv\"\n",
    "dff = pd.read_csv(single)\n",
    "df = dff[cols]"
   ]
  },
  {
   "cell_type": "markdown",
   "metadata": {},
   "source": [
    "# Numpy"
   ]
  },
  {
   "cell_type": "code",
   "execution_count": null,
   "metadata": {},
   "outputs": [],
   "source": []
  },
  {
   "cell_type": "markdown",
   "metadata": {},
   "source": [
    "# List"
   ]
  },
  {
   "cell_type": "code",
   "execution_count": null,
   "metadata": {},
   "outputs": [],
   "source": [
    "#derived list from df\n",
    "dff = pd.Series(df['CustomAttr15'])\n",
    "mlst1 = dff.to_list()\n",
    "mlst2 = df.values.tolist()\n",
    "mlst3 = df.columns.values.tolist()\n",
    "mlst4 = df['Summary'].values.tolist()\n",
    "mlst5 = df['LastOccurrence'].values.tolist()\n",
    "#print(mlst4)\n",
    "\n",
    "def lp_1d_list(mlst1):\n",
    "    i = 0\n",
    "    for i in range(len(mlst1)):\n",
    "        print(mlst1[i])\n",
    "        i = i + 1\n",
    "def lp_nested_seperate_2_list(mlst1,mlst4):\n",
    "    for a in mlst1:\n",
    "        for b in mlst4:\n",
    "            print(a,\">\",b)\n",
    "def lp_nested_list(mlst2):\n",
    "    for i in range(len(mlst2)):\n",
    "        for j in range(len(mlst2[i])):\n",
    "            print(mlst2[i][j])\n",
    "\n",
    "# List Methods append(), count(), index(), pop(), sort()\n",
    "fruits = ['apple', 'banana', 'cherry','banana']\n",
    "fruits.append(\"orange\")\n",
    "print(fruits)\n",
    "\n",
    "print(fruits.count(\"banana\"))\n",
    "print(fruits.index(\"cherry\"))\n",
    "\n",
    "fruits = ['apple', 'banana', 'cherry']\n",
    "cars = ['Ford', 'BMW', 'Volvo']\n",
    "fruits.extend(cars)\n",
    "print(fruits) #JOIN 2 LIST\n",
    "\n",
    "fruits = fruits.pop(1)\n",
    "print(fruits)"
   ]
  },
  {
   "cell_type": "markdown",
   "metadata": {},
   "source": [
    "# dictionary"
   ]
  },
  {
   "cell_type": "code",
   "execution_count": 30,
   "metadata": {},
   "outputs": [
    {
     "name": "stdout",
     "output_type": "stream",
     "text": [
      "{'name': 'Phill', 'age': 22}\n"
     ]
    }
   ],
   "source": [
    "dic1 = {}\n",
    "dic2 = {1: 'apple', 2: 'ball'}\n",
    "dic3 = {'name': 'John', 1: [2, 4, 3]}\n",
    "dic4 = dict({1:'apple', 2:'ball'})\n",
    "dic5 = dict([(1,'apple'), (2,'ball')])\n",
    "#print(dic3)\n",
    "\n",
    "#create dictionary from 2 list (as key , as value)\n",
    "dlist = dict(zip(mlst1, mlst4))\n",
    "#dataframe to dictionary\n",
    "ddf1 = df.to_dict()\n",
    "\n",
    "def lp_dic():\n",
    "    for key in ddf1:\n",
    "        print(key,ddf1[key])\n",
    "\n",
    "for v in book.values():\n",
    "    print(v)\n",
    "    \n",
    "#Method of Dictionary fromkeys(), get(), items(), keys(), values(), pop(), update()\n",
    "person = {'name': 'Phill', 'age': 22}\n",
    "#print(person.get('name'))\n",
    "\n",
    "d = {1: \"one\", 2: \"three\"}\n",
    "d1 = {2: \"two\"}\n",
    "d.update(d1)\n",
    "print(d)\n",
    "\n",
    "person = {'name': 'Phill'}\n",
    "person.setdefault('age', 22)\n",
    "print(person)"
   ]
  },
  {
   "cell_type": "code",
   "execution_count": null,
   "metadata": {},
   "outputs": [],
   "source": []
  }
 ],
 "metadata": {
  "kernelspec": {
   "display_name": "Python 3",
   "language": "python",
   "name": "python3"
  }
 },
 "nbformat": 4,
 "nbformat_minor": 4
}
