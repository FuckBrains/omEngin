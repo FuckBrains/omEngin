{
 "cells": [
  {
   "cell_type": "code",
   "execution_count": 28,
   "metadata": {
    "scrolled": true
   },
   "outputs": [
    {
     "name": "stdout",
     "output_type": "stream",
     "text": [
      "        Resource CustomAttr15               Summary   LastOccurrence  \\\n",
      "0     CGPCH17_01      CGPCH17  ERI-HIGH TEMPERATURE   2/5/2020 20:57   \n",
      "1        NOCMP16      UNKNOWN         ERI-RRU THEFT   7/5/2020 17:02   \n",
      "2     CXTKN25_01      CXTKN25  ERI-AC MAINS FAILURE   28/5/2020 0:07   \n",
      "3     CXTKN23_02      CXTKN23  ERI-AC MAINS FAILURE  20/7/2020 15:43   \n",
      "4     CMBRR40_01      CMBRR40  ERI-AC MAINS FAILURE  21/5/2020 23:28   \n",
      "...          ...          ...                   ...              ...   \n",
      "3186  DHPLB89B03      DHPLB89      ERI-2G CELL DOWN   6/9/2020 23:38   \n",
      "3187  DHMRPA6B03      DHMRPA6      ERI-2G CELL DOWN   6/9/2020 23:37   \n",
      "3188  DHMRPA6B03      DHMRPA6      ERI-2G CELL DOWN   6/9/2020 23:37   \n",
      "3189     NWSBG07      NWSBG07     HUW-MAINS FAILURE   6/9/2020 23:37   \n",
      "3190     NWGMS09      NWGMS09     HUW-MAINS FAILURE   6/9/2020 23:37   \n",
      "\n",
      "             CustomAttr11  \n",
      "0     e.co_CTG_Metro_East  \n",
      "1                 UNKNOWN  \n",
      "2        e.co_Cox_s_Bazar  \n",
      "3        e.co_Cox_s_Bazar  \n",
      "4        e.co_Chauddagram  \n",
      "...                   ...  \n",
      "3186       e.co_Nabinagar  \n",
      "3187       e.co_Nabinagar  \n",
      "3188       e.co_Nabinagar  \n",
      "3189        e.co_Rajshahi  \n",
      "3190        e.co_Rajshahi  \n",
      "\n",
      "[3191 rows x 5 columns]\n"
     ]
    }
   ],
   "source": [
    "import pandas as pd\n",
    "import numpy as np\n",
    "import os\n",
    "from datetime import date\n",
    "import itertools\n",
    "\n",
    "cols = [\"Resource\",\"CustomAttr15\",\"Summary\",\"LastOccurrence\",\"CustomAttr11\"] #Range [A-E]\n",
    "single = os.getcwd() + \"\\\\\" + \"single.csv\"\n",
    "dff = pd.read_csv(single)\n",
    "df = dff[cols]\n",
    "print(df)"
   ]
  },
  {
   "cell_type": "markdown",
   "metadata": {},
   "source": [
    "# Numpy"
   ]
  },
  {
   "cell_type": "code",
   "execution_count": 29,
   "metadata": {},
   "outputs": [
    {
     "name": "stdout",
     "output_type": "stream",
     "text": [
      "CGPCH17_01\n",
      "3191 5\n"
     ]
    }
   ],
   "source": [
    "arr = df.to_numpy()  #convert df to np\n",
    "print(arr[0][0])   #printing an index value of numpy arr\n",
    "rw, col = arr.shape #last row, last column\n",
    "print(rw,col)\n",
    "\n",
    "#loop and access\n",
    "lst = []\n",
    "dic = {}\n",
    "for i in range(rw):\n",
    "    lst2 = []\n",
    "    for j in range(col):\n",
    "        #print(arr[i][j])      #print Row by index\n",
    "        lst2.append(arr[i][j]) #create a list\n",
    "    dic.update( {i : lst2} ) #create dict\n",
    "#print(dic)\n"
   ]
  },
  {
   "cell_type": "code",
   "execution_count": 31,
   "metadata": {},
   "outputs": [
    {
     "name": "stdout",
     "output_type": "stream",
     "text": [
      "               0        1                     2                3  \\\n",
      "0     CGPCH17_01  CGPCH17  ERI-HIGH TEMPERATURE   2/5/2020 20:57   \n",
      "1        NOCMP16  UNKNOWN         ERI-RRU THEFT   7/5/2020 17:02   \n",
      "2     CXTKN25_01  CXTKN25  ERI-AC MAINS FAILURE   28/5/2020 0:07   \n",
      "3     CXTKN23_02  CXTKN23  ERI-AC MAINS FAILURE  20/7/2020 15:43   \n",
      "4     CMBRR40_01  CMBRR40  ERI-AC MAINS FAILURE  21/5/2020 23:28   \n",
      "...          ...      ...                   ...              ...   \n",
      "3186  DHPLB89B03  DHPLB89      ERI-2G CELL DOWN   6/9/2020 23:38   \n",
      "3187  DHMRPA6B03  DHMRPA6      ERI-2G CELL DOWN   6/9/2020 23:37   \n",
      "3188  DHMRPA6B03  DHMRPA6      ERI-2G CELL DOWN   6/9/2020 23:37   \n",
      "3189     NWSBG07  NWSBG07     HUW-MAINS FAILURE   6/9/2020 23:37   \n",
      "3190     NWGMS09  NWGMS09     HUW-MAINS FAILURE   6/9/2020 23:37   \n",
      "\n",
      "                        4     5     6  \n",
      "0     e.co_CTG_Metro_East    no    no  \n",
      "1                 UNKNOWN    no    no  \n",
      "2        e.co_Cox_s_Bazar    no    no  \n",
      "3        e.co_Cox_s_Bazar    no    no  \n",
      "4        e.co_Chauddagram    no    no  \n",
      "...                   ...   ...   ...  \n",
      "3186       e.co_Nabinagar  down  down  \n",
      "3187       e.co_Nabinagar  down  down  \n",
      "3188       e.co_Nabinagar  down  down  \n",
      "3189        e.co_Rajshahi    no    no  \n",
      "3190        e.co_Rajshahi    no    no  \n",
      "\n",
      "[3191 rows x 7 columns]\n"
     ]
    }
   ],
   "source": [
    "#add new column derived from existing one\n",
    "lst3 = []\n",
    "for i in range(rw):\n",
    "    x = arr[i][2] #only printing summary\n",
    "    if 'DOWN' in x:\n",
    "        lst3.append('down')\n",
    "    else:\n",
    "        lst3.append('no')\n",
    "arr = np.append(arr, np.array([lst3]).transpose(), axis=1)\n",
    "df = pd.DataFrame(arr)\n",
    "print(df)\n"
   ]
  },
  {
   "cell_type": "markdown",
   "metadata": {},
   "source": [
    "# List"
   ]
  },
  {
   "cell_type": "code",
   "execution_count": null,
   "metadata": {},
   "outputs": [],
   "source": [
    "#derived list from df\n",
    "dff = pd.Series(df['CustomAttr15'])\n",
    "mlst1 = dff.to_list()\n",
    "mlst2 = df.values.tolist()\n",
    "mlst3 = df.columns.values.tolist()\n",
    "mlst4 = df['Summary'].values.tolist()\n",
    "mlst5 = df[['Summary','LastOccurrence']].values.tolist()\n",
    "#print(mlst4)\n",
    "\n",
    "def lp_1d_list(mlst1):\n",
    "    i = 0\n",
    "    for i in range(len(mlst1)):\n",
    "        print(mlst1[i])\n",
    "        i = i + 1\n",
    "def lp_nested_seperate_2_list(mlst1,mlst4):\n",
    "    for a in mlst1:\n",
    "        for b in mlst4:\n",
    "            print(a,\">\",b)\n",
    "def lp_nested_list(mlst2):\n",
    "    for i in range(len(mlst2)):\n",
    "        for j in range(len(mlst2[i])):\n",
    "            print(mlst2[i][j])\n",
    "\n",
    "# List Methods append(), count(), index(), pop(), sort()\n",
    "fruits = ['apple', 'banana', 'cherry','banana']\n",
    "fruits.append(\"orange\")\n",
    "print(fruits)\n",
    "\n",
    "print(fruits.count(\"banana\"))\n",
    "print(fruits.index(\"cherry\"))\n",
    "\n",
    "fruits = ['apple', 'banana', 'cherry']\n",
    "cars = ['Ford', 'BMW', 'Volvo']\n",
    "fruits.extend(cars)\n",
    "print(fruits) #JOIN 2 LIST\n",
    "\n",
    "fruits = fruits.pop(1)\n",
    "print(fruits)"
   ]
  },
  {
   "cell_type": "markdown",
   "metadata": {},
   "source": [
    "# dictionary"
   ]
  },
  {
   "cell_type": "code",
   "execution_count": null,
   "metadata": {},
   "outputs": [],
   "source": [
    "dic1 = {}\n",
    "dic2 = {1: 'apple', 2: 'ball'}\n",
    "dic3 = {'name': 'John', 1: [2, 4, 3]}\n",
    "dic4 = dict({1:'apple', 2:'ball'})\n",
    "dic5 = dict([(1,'apple'), (2,'ball')])\n",
    "\n",
    "#create dictionary from 2 list (as key , as value)\n",
    "dlist = dict(zip(mlst1, mlst5))\n",
    "#print(dlist)\n",
    "\n",
    "#dataframe to dictionary\n",
    "ddf1 = df.to_dict()\n",
    "\n",
    "def lp_dic():\n",
    "    for key in ddf1:\n",
    "        print(key,ddf1[key])\n",
    "    for v in ddf1.values():\n",
    "        print(v)\n",
    "def lp_key_wise(dl):\n",
    "    for k,v in dlist.items():\n",
    "        print(\"STCODE:\", k, \":\", v[0],',', v[1])\n",
    "        \n",
    "lp_key_wise(dlist)\n",
    "#Method of Dictionary fromkeys(), get(), items(), keys(), values(), pop(), update()\n",
    "person = {'name': 'Phill', 'age': 22}\n",
    "#print(person.get('name'))\n",
    "\n",
    "d = {1: \"one\", 2: \"three\"}\n",
    "d1 = {2: \"two\"}\n",
    "d.update(d1)\n",
    "#print(d)\n",
    "\n",
    "person = {'name': 'Phill'}\n",
    "person.setdefault('age', 22)\n",
    "#print(person)"
   ]
  },
  {
   "cell_type": "code",
   "execution_count": null,
   "metadata": {},
   "outputs": [],
   "source": []
  },
  {
   "cell_type": "code",
   "execution_count": null,
   "metadata": {},
   "outputs": [],
   "source": []
  },
  {
   "cell_type": "code",
   "execution_count": null,
   "metadata": {},
   "outputs": [],
   "source": []
  }
 ],
 "metadata": {
  "kernelspec": {
   "display_name": "Python 3",
   "language": "python",
   "name": "python3"
  },
  "language_info": {
   "codemirror_mode": {
    "name": "ipython",
    "version": 3
   },
   "file_extension": ".py",
   "mimetype": "text/x-python",
   "name": "python",
   "nbconvert_exporter": "python",
   "pygments_lexer": "ipython3",
   "version": "3.8.1"
  }
 },
 "nbformat": 4,
 "nbformat_minor": 4
}
