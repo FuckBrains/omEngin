{
 "cells": [
  {
   "cell_type": "code",
   "execution_count": 5,
   "metadata": {},
   "outputs": [],
   "source": [
    "import pandas as pd\n",
    "import numpy as np\n",
    "import os\n",
    "\n",
    "\n",
    "def myFun(arg1, *argv, **kwargs): \n",
    "    print (\"First argument :\", arg1) \n",
    "    for arg in argv:\n",
    "        print(\"Next argument through *argv :\", arg)\n",
    "\n",
    "def oFn1(df, *argv, **kwargs):\n",
    "    ls = []\n",
    "    col = df.columns.to_list()\n",
    "    for n in range(len(argv)):\n",
    "        TempLs = df[argv[n]].values.tolist()\n",
    "        if len(ls) == 0:\n",
    "            ls = TempLs\n",
    "        else:\n",
    "            tls = [i + j for i, j in zip(ls, TempLs)]\n",
    "            ls = tls\n",
    "    ld = []\n",
    "    for key,value in kwargs.items():\n",
    "        if col.count(value) != 0:\n",
    "            TmpLd = df[value].to_list()\n",
    "            if len(ld) == 0:\n",
    "                ld = TmpLd\n",
    "            else:\n",
    "                tld = [i + j for i, j in zip(ld, TmpLd)]\n",
    "                ld = tld\n",
    "        else:\n",
    "            ar = np.full(df.shape[0], value)\n",
    "            TmpLd = ar.tolist()\n",
    "            if len(ld) == 0:\n",
    "                ld = TmpLd\n",
    "            else:\n",
    "                tld = [i + j for i, j in zip(ld, TmpLd)]\n",
    "                ld = tld\n",
    "    fls = []\n",
    "    for i in range(len(ld)):\n",
    "        x = ls.count(ld[i])\n",
    "        fls.append(x)\n",
    "    df['cnt'] = np.array(fls)\n",
    "    print(df)\n",
    "        \n",
    "db = os.getcwd() + \"\\\\OMDB.csv\"\n",
    "livedb = os.getcwd() + \"\\\\robi_live.csv\"\n",
    "xa = os.getcwd() + \"\\\\xa.csv\"\n",
    "sclick = os.getcwd() + \"\\\\OMTX_2.csv\"\n",
    "df = pd.read_csv(sclick)\n",
    "ls_sclick = ['Severity','Node','Resource']\n",
    "dc_sclick = {'Severity': 'Severity','Node':'Node','Resource':'Resource'}\n",
    "#oFn1(df,'Severity','CustomAttr15', Severity = 'Critical', CustomAttr15 = 'CustomAttr15')\n",
    "\n",
    "\n",
    "#df1 = df.groupby(['CustomAttr15','Summary'])['Summary'].count()\n",
    "#print(df1)\n"
   ]
  },
  {
   "cell_type": "code",
   "execution_count": 7,
   "metadata": {
    "scrolled": true
   },
   "outputs": [
    {
     "ename": "NameError",
     "evalue": "name 'columns' is not defined",
     "output_type": "error",
     "traceback": [
      "\u001b[1;31m---------------------------------------------------------------------------\u001b[0m",
      "\u001b[1;31mNameError\u001b[0m                                 Traceback (most recent call last)",
      "\u001b[1;32m<ipython-input-7-89a967c550f2>\u001b[0m in \u001b[0;36m<module>\u001b[1;34m\u001b[0m\n\u001b[0;32m      9\u001b[0m \u001b[0mdfdb1\u001b[0m \u001b[1;33m=\u001b[0m \u001b[0mpd\u001b[0m\u001b[1;33m.\u001b[0m\u001b[0mread_csv\u001b[0m\u001b[1;33m(\u001b[0m\u001b[0mdb\u001b[0m\u001b[1;33m)\u001b[0m\u001b[1;33m\u001b[0m\u001b[1;33m\u001b[0m\u001b[0m\n\u001b[0;32m     10\u001b[0m \u001b[0mdfdb\u001b[0m \u001b[1;33m=\u001b[0m \u001b[0mdfdb1\u001b[0m\u001b[1;33m[\u001b[0m\u001b[1;33m[\u001b[0m\u001b[1;34m'Code'\u001b[0m\u001b[1;33m,\u001b[0m\u001b[1;34m'Zone'\u001b[0m\u001b[1;33m]\u001b[0m\u001b[1;33m]\u001b[0m\u001b[1;33m\u001b[0m\u001b[1;33m\u001b[0m\u001b[0m\n\u001b[1;32m---> 11\u001b[1;33m \u001b[0mmdf\u001b[0m \u001b[1;33m=\u001b[0m \u001b[0mdf\u001b[0m\u001b[1;33m.\u001b[0m\u001b[0mrename\u001b[0m\u001b[1;33m(\u001b[0m\u001b[0mcolumns\u001b[0m\u001b[1;33m.\u001b[0m\u001b[0mstr\u001b[0m\u001b[1;33m.\u001b[0m\u001b[0mupper\u001b[0m\u001b[1;33m)\u001b[0m\u001b[1;33m\u001b[0m\u001b[1;33m\u001b[0m\u001b[0m\n\u001b[0m\u001b[0;32m     12\u001b[0m \u001b[0mdf1\u001b[0m \u001b[1;33m=\u001b[0m \u001b[0mdf\u001b[0m\u001b[1;33m.\u001b[0m\u001b[0massign\u001b[0m \u001b[1;33m(\u001b[0m\u001b[0mcoln\u001b[0m\u001b[1;33m=\u001b[0m\u001b[1;34m'cat'\u001b[0m\u001b[1;33m)\u001b[0m\u001b[1;33m\u001b[0m\u001b[1;33m\u001b[0m\u001b[0m\n\u001b[0;32m     13\u001b[0m \u001b[0mdf1\u001b[0m \u001b[1;33m=\u001b[0m \u001b[0mdf1\u001b[0m\u001b[1;33m.\u001b[0m\u001b[0massign\u001b[0m \u001b[1;33m(\u001b[0m\u001b[0mcoln\u001b[0m\u001b[1;33m=\u001b[0m\u001b[1;34m'Code'\u001b[0m\u001b[1;33m)\u001b[0m\u001b[1;33m\u001b[0m\u001b[1;33m\u001b[0m\u001b[0m\n",
      "\u001b[1;31mNameError\u001b[0m: name 'columns' is not defined"
     ]
    }
   ],
   "source": [
    "TS = lambda x : '2G' if ('2G SITE DOWN' in x) \\\n",
    "                else ('3G' if ('3G SITE DOWN' in x) \\\n",
    "                else ('4G' if ('4G SITE DOWN' in x) \\\n",
    "                else ('Cell_2G' if ('2G CELL DOWN' in x) \\\n",
    "                else ('Cell_3G' if ('3G CELL DOWN' in x) \\\n",
    "                else ('Cell_4G' if ('4G CELL DOWN' in x) \\\n",
    "                else \"other\")))))\n",
    "\n",
    "dfdb1 = pd.read_csv(db)\n",
    "dfdb = dfdb1[['Code','Zone']]\n",
    "mdf = df.rename(columns=str.upper)\n",
    "df1 = df.assign (coln='cat')\n",
    "df1 = df1.assign (coln='Code')\n",
    "df1['cat'] = df1.apply(lambda x: TS(x.SUMMARY), axis = 1)\n",
    "df1['Code'] = df1.apply(lambda x: x.CUSTOMATTR15[0:5], axis = 1)\n",
    "df2 = df1.merge(dfdb, on='Code')\n",
    "\n",
    "\n",
    "#dfg = df2.groupby(['Zone','cat'])[''].count().to_frame (name='AB').reset_index ()\n",
    "#dfg2 = df2.pivot_table(values='cat', index = 'Zone', columns = 'CustomAttr15')\n",
    "#print(dfg2)\n",
    "dfg1 = df2.groupby(['Zone','cat']).cat.count()\n",
    "#print(dfg1.unstack(),chr(10),\"~~~~~~~~~~~~~~~~~~~~~~~~~~~~~~\")\n",
    "\n",
    "getgrp = df2.groupby(['cat','Zone'])['CUSTOMATTR15'].get_group(('2G','BAR'))\n",
    "print(getgrp)\n",
    "\n",
    "#d = {'2G SITE':'ERI-2G SITE DOWN', '3G SITE':'ERI-3G SITE DOWN'}\n",
    "#print(getList(d)) \n",
    "#for key, value in d.items() if 'new york' in key.upper():\n",
    "#print(value)\n"
   ]
  },
  {
   "cell_type": "code",
   "execution_count": null,
   "metadata": {},
   "outputs": [],
   "source": [
    "dfT = pd.DataFrame({'x': ['A', 'B', 'A', 'B'], 'y': [1, 4, 3, 2]})\n",
    "data_frame['Name'] = data_frame['Name'].apply(lambda name : name.upper())"
   ]
  },
  {
   "cell_type": "code",
   "execution_count": 8,
   "metadata": {},
   "outputs": [
    {
     "data": {
      "text/html": [
       "<div>\n",
       "<style scoped>\n",
       "    .dataframe tbody tr th:only-of-type {\n",
       "        vertical-align: middle;\n",
       "    }\n",
       "\n",
       "    .dataframe tbody tr th {\n",
       "        vertical-align: top;\n",
       "    }\n",
       "\n",
       "    .dataframe thead th {\n",
       "        text-align: right;\n",
       "    }\n",
       "</style>\n",
       "<table border=\"1\" class=\"dataframe\">\n",
       "  <thead>\n",
       "    <tr style=\"text-align: right;\">\n",
       "      <th></th>\n",
       "      <th>X</th>\n",
       "      <th>Y</th>\n",
       "    </tr>\n",
       "  </thead>\n",
       "  <tbody>\n",
       "    <tr>\n",
       "      <th>0</th>\n",
       "      <td>A</td>\n",
       "      <td>1</td>\n",
       "    </tr>\n",
       "    <tr>\n",
       "      <th>2</th>\n",
       "      <td>A</td>\n",
       "      <td>3</td>\n",
       "    </tr>\n",
       "  </tbody>\n",
       "</table>\n",
       "</div>"
      ],
      "text/plain": [
       "   X  Y\n",
       "0  A  1\n",
       "2  A  3"
      ]
     },
     "execution_count": 8,
     "metadata": {},
     "output_type": "execute_result"
    }
   ],
   "source": [
    "dfT.groupby(['x']).get_group('A')"
   ]
  },
  {
   "cell_type": "code",
   "execution_count": null,
   "metadata": {},
   "outputs": [],
   "source": []
  },
  {
   "cell_type": "code",
   "execution_count": null,
   "metadata": {},
   "outputs": [],
   "source": []
  }
 ],
 "metadata": {
  "kernelspec": {
   "display_name": "Python 3",
   "language": "python",
   "name": "python3"
  },
  "language_info": {
   "codemirror_mode": {
    "name": "ipython",
    "version": 3
   },
   "file_extension": ".py",
   "mimetype": "text/x-python",
   "name": "python",
   "nbconvert_exporter": "python",
   "pygments_lexer": "ipython3",
   "version": "3.8.1"
  }
 },
 "nbformat": 4,
 "nbformat_minor": 4
}
