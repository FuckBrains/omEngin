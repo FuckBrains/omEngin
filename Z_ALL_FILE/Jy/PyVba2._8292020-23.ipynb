{
 "cells": [
  {
   "cell_type": "code",
   "execution_count": 7,
   "metadata": {},
   "outputs": [
    {
     "name": "stdout",
     "output_type": "stream",
     "text": [
      "DHKTL04: \n",
      " \n",
      "DHKTL04 || Synthetic-ERI-3G SITE DOWN || 28/8/2020 2:53 \n",
      "DHKTL04 || ERI-4G SITE DOWN || 28/8/2020 2:46\n"
     ]
    }
   ],
   "source": [
    "import MySQLdb\n",
    "import pandas as pd\n",
    "import os\n",
    "\n",
    "conn= MySQLdb.connect(\"localhost\",\"root\",\"admin\",\"omdb\")\n",
    "df = pd.read_sql(\"select * from sitedb\",conn)\n",
    "file = os.getcwd() + \"\\\\\" + \"sem_raw.csv\"\n",
    "\n",
    "\n",
    "def dic_df_parse(dic,zn,zn_colname,parsecol_1,parsecol_2,parsecol_3):\n",
    "    hp = \"\"\n",
    "    #count = 0\n",
    "    nd = pd.DataFrame(dic)\n",
    "    ndf = nd[nd[zn_colname].str.contains(zn, na=False)]\n",
    "    for ind in ndf.index: \n",
    "        code = str(ndf[parsecol_1][ind])\n",
    "        lo = str(ndf[parsecol_2][ind])\n",
    "        resource = str(ndf[parsecol_3][ind])\n",
    "        hp = hp + \" \\n\"  + code + \" || \" + lo + \" || \" + resource\n",
    "    z = zn + ': \\n' + hp\n",
    "    return z\n",
    "\n",
    "             \n",
    "def fn_dict(dc,colname):\n",
    "    #print(dc)\n",
    "    #key_colname = 'Site_Code'\n",
    "    #print(dc[colname])         #--printall values under keys/column site code\n",
    "    \n",
    "    print(ndf)\n",
    "    #print(dc[key_colname][1])      #--print value in index 1\n",
    "    #first_col_key = list(dc.keys())[0]\n",
    "    #print(first_col_key)\n",
    "    #i = 0\n",
    "    #for txt in dc.keys():\n",
    "        #i = i + 1\n",
    "        #if \"All_Tech\" in txt:\n",
    "            #break\n",
    "\n",
    "\n",
    "#df2 = df[['Site_Code', 'DG_Status','Revenue_(in_K_BDT)','Priority']]\n",
    "#dic = df2.to_dict()\n",
    "#fn_dict(dic,'Site_Code')\n",
    "\n",
    "\n",
    "dfc = pd.read_csv(file)\n",
    "dic = dfc.to_dict()\n",
    "gval = dic_df_parse(dic,'DHKTL04','CustomAttr15','Resource','Summary','LastOccurrence')\n",
    "print(gval)\n",
    "\n",
    "#dic_df_parse(dic,'DHKTL03','Resource','Resource','Summary','LastOccurrence',\"\",\"\")\n",
    "\n",
    "\n",
    "#zn,zn_colname,parsecol_1,parsecol_2,parsecol_3,cond1,cond1_colname\n",
    "\n",
    "#for index, row in dfc.head().iterrows():\n",
    "    #print(index, row['Resource'], row['Summary'], row['LastOccurance']) # access data using column names\n",
    "\n",
    "#for index, row in dfc.head(4).iterrows():\n",
    "     #print(row)\n",
    "\n",
    "\n"
   ]
  },
  {
   "cell_type": "code",
   "execution_count": null,
   "metadata": {},
   "outputs": [],
   "source": []
  },
  {
   "cell_type": "code",
   "execution_count": null,
   "metadata": {},
   "outputs": [],
   "source": []
  }
 ],
 "metadata": {
  "kernelspec": {
   "display_name": "Python 3",
   "language": "python",
   "name": "python3"
  },
  "language_info": {
   "codemirror_mode": {
    "name": "ipython",
    "version": 3
   },
   "file_extension": ".py",
   "mimetype": "text/x-python",
   "name": "python",
   "nbconvert_exporter": "python",
   "pygments_lexer": "ipython3",
   "version": "3.8.1"
  }
 },
 "nbformat": 4,
 "nbformat_minor": 4
}
