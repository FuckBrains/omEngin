{
 "cells": [
  {
   "cell_type": "code",
   "execution_count": null,
   "metadata": {},
   "outputs": [],
   "source": []
  },
  {
   "cell_type": "code",
   "execution_count": 2,
   "metadata": {
    "scrolled": true
   },
   "outputs": [
    {
     "name": "stdout",
     "output_type": "stream",
     "text": [
      "dict_values([('zero_1', 'zero_2'), 'one', 'two'])\n",
      "dict_items([('col0', ('zero_1', 'zero_2')), ('col1', 'one'), (2, 'two')])\n"
     ]
    }
   ],
   "source": [
    "import pandas as pd\n",
    "\n",
    "def pr_all_row_dict(dic):\n",
    "    for rw in dic.values():\n",
    "        print(rw)\n",
    "\n",
    "def pr_all_col_dict(dic):\n",
    "    print(dic)(1)\n",
    "    #for col in dic:\n",
    "        #print(col)[0]\n",
    "\n",
    "def pr_spfc_col_dict(dic,index):\n",
    "    print(dic.values())\n",
    "    print(dic.items())\n",
    "\n",
    "dict1 = {'col0':('zero_1','zero_2'),'col1':'one', 2:'two'}\n",
    "#pr_all_row_dict(dict1)\n",
    "#pr_all_col_dict(dict1)\n",
    "pr_spfc_col_dict(dict1,0)\n",
    "\n",
    "\n",
    "\n",
    "#for col in dic.items():\n",
    "    #print(col)\n",
    "\n",
    "#for val in dic:\n",
    "    #print(val)\n",
    "\n",
    "    \n",
    "#print(dic['Site_Code'])   #colname=sitecode\n",
    "#index = 2\n",
    "#print(dic['Site_Code'][index])   #colname=sitecode"
   ]
  },
  {
   "cell_type": "code",
   "execution_count": null,
   "metadata": {},
   "outputs": [],
   "source": []
  },
  {
   "cell_type": "code",
   "execution_count": null,
   "metadata": {},
   "outputs": [],
   "source": [
    "\n"
   ]
  },
  {
   "cell_type": "code",
   "execution_count": 86,
   "metadata": {
    "scrolled": true
   },
   "outputs": [
    {
     "name": "stdout",
     "output_type": "stream",
     "text": [
      "{0: 'CXSDR09', 1: 'GGKSN21', 2: 'CGPTA39', 3: 'CGHTZ03', 4: 'GPSRP08', 5: 'CGSDP37', 6: 'CGSDP38', 7: 'CGSDP39', 8: 'CGSKN63', 9: 'DHDHN31', 10: 'NANMT12', 11: 'DHKGNC5', 12: 'DHKKT90', 13: 'DHRMP46', 14: 'DHUTTA3', 15: 'GPSDRK2', 16: 'MGSNG30', 17: 'RMNNC05', 18: 'CGDMGT7', 19: 'CGPRT66'}\n",
      "CGPTA39\n"
     ]
    }
   ],
   "source": [
    "#df to dic\n",
    "import pandas as pd\n",
    "filename = 'RobiLive.csv'\n",
    "df = pd.read_csv(filename)\n",
    "dic = df.to_dict()\n",
    "#print(df)\n",
    "#print(dic)\n",
    "#for col in dic:  #print header\n",
    "    #print(col)\n",
    "#for rw in dic.values():  #print header\n",
    "    #print(rw)\n",
    "#for col in dic.items():\n",
    "    #print(dic['Site_Code'])\n",
    "print(dic['Site_Code'])   #colname=sitecode\n",
    "index = 2\n",
    "print(dic['Site_Code'][index])   #colname=sitecode\n",
    "#for i in dic.values():\n",
    "    #j = j + 1\n",
    "    #print(j)\n",
    "   # print(dic['Site_Code'][j])\n",
    "    \n",
    "#for i in dic:\n",
    "    #print(i)\n",
    "#for i in dic.values():\n",
    "    #print(i)"
   ]
  },
  {
   "cell_type": "code",
   "execution_count": null,
   "metadata": {},
   "outputs": [],
   "source": []
  },
  {
   "cell_type": "code",
   "execution_count": null,
   "metadata": {},
   "outputs": [],
   "source": []
  },
  {
   "cell_type": "code",
   "execution_count": null,
   "metadata": {},
   "outputs": [],
   "source": []
  }
 ],
 "metadata": {
  "kernelspec": {
   "display_name": "Python 3",
   "language": "python",
   "name": "python3"
  },
  "language_info": {
   "codemirror_mode": {
    "name": "ipython",
    "version": 3
   },
   "file_extension": ".py",
   "mimetype": "text/x-python",
   "name": "python",
   "nbconvert_exporter": "python",
   "pygments_lexer": "ipython3",
   "version": "3.8.1"
  }
 },
 "nbformat": 4,
 "nbformat_minor": 4
}
