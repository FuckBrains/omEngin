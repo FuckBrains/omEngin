{
 "cells": [
  {
   "cell_type": "code",
   "execution_count": 5,
   "metadata": {},
   "outputs": [],
   "source": [
    "import time as tm\n",
    "import os, cx_Oracle\n",
    "from datetime import *\n",
    "import numpy as np\n",
    "import pandas as pd\n",
    "\n",
    "\n",
    "\n",
    "\n",
    "pt = os.getcwd() + \"\\\\book1.csv\"\n",
    "df = pd.read_csv(pt)\n",
    "df = df.astype (str)\n",
    "df = df.rename (columns=str.upper)\n",
    "df1 = df[['SERIAL','SUMMARY','CUSTOMATTR15','CUSTOMATTR11','LASTOCCURRENCE']]\n",
    "df1 = df1.assign(DHM ='0')\n",
    "df1['DHM'] = df.apply(lambda x: pd.to_datetime(x['LASTOCCURRENCE'], dayfirst=True).strftime(\"%m%d%H%M\"), axis = 1)\n",
    "df1 = df1.sort_values(by=['DHM'], ascending=True)\n",
    "df1 = df1.reset_index()\n",
    "df1 = df1.assign(CAT5 ='0')\n",
    "df1 = df1.assign(CAT15 ='0')\n",
    "\n",
    "\n",
    "x = df1.shape[0]\n",
    "df1['DHM'] = df1['DHM'].astype(int)\n",
    "st = int(df1.loc[0,'DHM'])\n",
    "precode = '0'\n",
    "x1 = 0\n",
    "for i in range(len(df1)):\n",
    "    code = df1.loc[i,'CUSTOMATTR15']\n",
    "    if x1 == 10:\n",
    "        st = st + 5\n",
    "        x1 = 0\n",
    "    if int(df1.loc[i,'DHM']) > st:\n",
    "        if precode != code:\n",
    "            precode = code\n",
    "            st = int(df1.loc[i,'DHM']) + 5\n",
    "            df1.loc[i,'CAT5'] = st\n",
    "        else:\n",
    "            df1.loc[i,'CAT5'] = st\n",
    "            x1 = x1 + 1\n",
    "    else:\n",
    "        df1.loc[i,'CAT5'] = st\n",
    "        precode = code\n",
    "        \n"
   ]
  },
  {
   "cell_type": "code",
   "execution_count": null,
   "metadata": {},
   "outputs": [],
   "source": []
  }
 ],
 "metadata": {
  "kernelspec": {
   "display_name": "Python 3",
   "language": "python",
   "name": "python3"
  },
  "language_info": {
   "codemirror_mode": {
    "name": "ipython",
    "version": 3
   },
   "file_extension": ".py",
   "mimetype": "text/x-python",
   "name": "python",
   "nbconvert_exporter": "python",
   "pygments_lexer": "ipython3",
   "version": "3.8.1"
  }
 },
 "nbformat": 4,
 "nbformat_minor": 4
}
