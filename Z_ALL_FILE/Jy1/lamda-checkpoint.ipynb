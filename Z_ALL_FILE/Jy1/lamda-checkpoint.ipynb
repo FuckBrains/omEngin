{
 "cells": [
  {
   "cell_type": "code",
   "execution_count": 13,
   "metadata": {
    "scrolled": true
   },
   "outputs": [
    {
     "name": "stdout",
     "output_type": "stream",
     "text": [
      "[UNKNOWN    286\n",
      "CXTKN53     71\n",
      "CMHMN04     38\n",
      "CGSKN19     37\n",
      "CGHTZ37     36\n",
      "          ... \n",
      "DHDHNB4      1\n",
      "DHHZR11      1\n",
      "GPSDRH4      1\n",
      "CGRZN12      1\n",
      "CGBAK14      1\n",
      "Name: CUSTOMATTR15, Length: 191, dtype: int64]\n"
     ]
    }
   ],
   "source": [
    "import pandas as pd\n",
    "import numpy as np\n",
    "import os\n",
    "\n",
    "cols = [\"SERIAL\",\"EQUIPMENTKEY\",\"CUSTOMATTR15\",\"SUMMARY\",\"LASTOCCURRENCE\",\"CLEARTIMESTAMP\",\"ALARMDETAILS\"]\n",
    "single = os.getcwd() + \"\\\\\" + \"DWRRU.csv\"\n",
    "df = pd.read_csv(single)\n",
    "df2 = df[cols]\n",
    "df2.fillna(0)\n",
    "code= [df2['CUSTOMATTR15'].value_counts(dropna=False)]\n",
    "print(code)\n",
    "#df3 = df2.replace(np.nan,0)\n",
    "\n",
    "#df2['count'] = codecount\n",
    "#df2 = df2.replace(np.nan,0)\n",
    "#print(df2)\n",
    "#pt = os.getcwd() + \"\\\\\" + \"DW1709.csv\"\n",
    "#df2.to_csv(pt)"
   ]
  },
  {
   "cell_type": "code",
   "execution_count": null,
   "metadata": {},
   "outputs": [],
   "source": []
  }
 ],
 "metadata": {
  "kernelspec": {
   "display_name": "Python 3",
   "language": "python",
   "name": "python3"
  },
  "language_info": {
   "codemirror_mode": {
    "name": "ipython",
    "version": 3
   },
   "file_extension": ".py",
   "mimetype": "text/x-python",
   "name": "python",
   "nbconvert_exporter": "python",
   "pygments_lexer": "ipython3",
   "version": "3.8.1"
  }
 },
 "nbformat": 4,
 "nbformat_minor": 4
}
