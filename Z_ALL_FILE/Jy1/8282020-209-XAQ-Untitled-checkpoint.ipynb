{
 "cells": [
  {
   "cell_type": "code",
   "execution_count": 18,
   "metadata": {},
   "outputs": [
    {
     "name": "stdout",
     "output_type": "stream",
     "text": [
      "E:\\GIT\\OmPY_P20_all\\omfn\n"
     ]
    }
   ],
   "source": [
    "import pandas as pd\n",
    "import numpy as np\n",
    "import os\n",
    "\n",
    "\n",
    "def fn_nparr(ar):\n",
    "    #print(ar)\n",
    "    ar2df = pd.DataFrame(data=ar,columns=[\"c1\", \"c2\",\"c3\",\"c4\",\"c5\"])\n",
    "    #print(ar2df)\n",
    "    print('num of rows: ', (ar).shape[0])\n",
    "    print('num of column: ', (ar).shape[1])\n",
    "    #print(ar[0][1])  #----Acessing value by index\n",
    "    #print(ar[0][2])   #----Acessing value by index\n",
    "    i = 0\n",
    "    print(ar.size)\n",
    "    while i < ar.shape[1]:\n",
    "        print(ar[i][0])   #printing rows values for column 0\n",
    "        i = i + 1\n",
    "        if(i == ar.size):\n",
    "            print(i)\n",
    "            break    \n",
    "\n",
    "    \n",
    "    \n",
    "dr = os.getcwd()\n",
    "print(dr)\n",
    "filename = os.getcwd() + '//inc.csv'\n",
    "df = pd.read_csv(filename)\n",
    "#arr = df.to_numpy()\n",
    "#dic = df.to_dict()\n",
    "#lst = df.values.tolist()\n",
    "#fn_nparr(arr)\n",
    "    \n",
    "    \n",
    "    \n",
    "\n",
    "    \n",
    "    \n"
   ]
  },
  {
   "cell_type": "code",
   "execution_count": 14,
   "metadata": {},
   "outputs": [
    {
     "name": "stderr",
     "output_type": "stream",
     "text": [
      "IOPub data rate exceeded.\n",
      "The notebook server will temporarily stop sending output\n",
      "to the client in order to avoid crashing it.\n",
      "To change this limit, set the config variable\n",
      "`--NotebookApp.iopub_data_rate_limit`.\n",
      "\n",
      "Current values:\n",
      "NotebookApp.iopub_data_rate_limit=1000000.0 (bytes/sec)\n",
      "NotebookApp.rate_limit_window=3.0 (secs)\n",
      "\n"
     ]
    }
   ],
   "source": [
    "cat_type1(lst)"
   ]
  },
  {
   "cell_type": "code",
   "execution_count": null,
   "metadata": {},
   "outputs": [],
   "source": []
  }
 ],
 "metadata": {
  "kernelspec": {
   "display_name": "Python 3",
   "language": "python",
   "name": "python3"
  },
  "language_info": {
   "codemirror_mode": {
    "name": "ipython",
    "version": 3
   },
   "file_extension": ".py",
   "mimetype": "text/x-python",
   "name": "python",
   "nbconvert_exporter": "python",
   "pygments_lexer": "ipython3",
   "version": "3.8.1"
  }
 },
 "nbformat": 4,
 "nbformat_minor": 4
}
