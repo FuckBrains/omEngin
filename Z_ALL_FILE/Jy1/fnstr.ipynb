{
 "cells": [
  {
   "cell_type": "code",
   "execution_count": 38,
   "metadata": {},
   "outputs": [
    {
     "name": "stdout",
     "output_type": "stream",
     "text": [
      "x\n",
      "181\n"
     ]
    }
   ],
   "source": [
    "import pandas as pd\n",
    "import os\n",
    "import numpy\n",
    "import MySQLdb\n",
    "\n",
    "conn= MySQLdb.connect(\"localhost\",\"root\",\"admin\",\"omdb\")\n",
    "file = os.getcwd() + \"\\\\\" + \"BK1.csv\"\n",
    "df_mysql = pd.read_sql(\"select * from sitedb\",conn)\n",
    "df_csv = pd.read_csv(file)\n",
    "\n",
    "class omstring:\n",
    "    def __init__(self):\n",
    "        print('x')\n",
    "    def chk_rcut(self,txt,findchr):\n",
    "        x = txt.find(findchr)\n",
    "        ln = len(txt)\n",
    "        if x != -1:\n",
    "            return txt[x:ln]\n",
    "        else:\n",
    "            return '0'\n",
    "    def chk_lcut(self,txt,findchr):\n",
    "        x = txt.find(findchr)\n",
    "        if x != -1:\n",
    "            return txt[0:x]\n",
    "        else:\n",
    "            return '0'\n",
    "    def midcut(self,txt,fromindx,toindx):\n",
    "        return txt[fromindx : toindx]\n",
    "    def instr(self,txt,chkchr):\n",
    "        return txt.find(chkchr)\n",
    "    def instrrev(self,txt,chkchr):\n",
    "        return txt.rindex(chkchr)\n",
    "    def str_split(self,txt,splitby):\n",
    "        return txt.split(splitby)\n",
    "    def str_chrocc(self,txt,chrchk):\n",
    "        return txt.count(chrchk)\n",
    "    def str_trim(self,txt):\n",
    "        return txt.strip()\n",
    "    def instr_st_end(self,txt,chkstr,st,end):\n",
    "        return txt.find(chkstr, st, end)\n",
    "    def isall_digit(self,txt):\n",
    "        return txt.isdigit(self)\n",
    "    def isall_alphabet(self,text):\n",
    "        return txt.isalpha()\n",
    "    def isall_number(self,text):\n",
    "        return txt.isnumeric()\n",
    "    def str_tolower(self,text):\n",
    "        return txt.casefold()\n",
    "    def str_toupper(self,txt):\n",
    "        return txt.upper()\n",
    "    def str_chktype(self,txt):\n",
    "        return type(txt)\n",
    "    \n",
    "\n",
    "st = \"\"\"Close Notification:*13 3G & 11 4G Sites in Barisal are gradually up*\n",
    "        Severity: C-3*FT: 14:36 to 14:47_26/04*RT: 18:31_26/04*DUR: 03:55*Link: SPZNR02-SPZNR04*\n",
    "        Cause: VLAN missmatched at SPZNR02 during TNR CRQ000000224351\n",
    "        (Slogan: NCCD Abis_oIP Project FE configure at VLAN Barishal zone)\"\"\"\n",
    "y = omstring()\n",
    "print(y.instr(st,'VLAN'))\n"
   ]
  },
  {
   "cell_type": "code",
   "execution_count": 33,
   "metadata": {},
   "outputs": [
    {
     "data": {
      "text/plain": [
       "'CRQ000000224351\\n        (Slogan: NCCD Abis_oIP Project FE configure at VLAN Barishal zone)'"
      ]
     },
     "execution_count": 33,
     "metadata": {},
     "output_type": "execute_result"
    }
   ],
   "source": [
    "y.chk_rcut(st,\"CRQ0\")"
   ]
  },
  {
   "cell_type": "code",
   "execution_count": 22,
   "metadata": {},
   "outputs": [
    {
     "data": {
      "text/plain": [
       "'se Noti'"
      ]
     },
     "execution_count": 22,
     "metadata": {},
     "output_type": "execute_result"
    }
   ],
   "source": [
    "y.midcut(st,3,10)"
   ]
  },
  {
   "cell_type": "code",
   "execution_count": 25,
   "metadata": {},
   "outputs": [
    {
     "data": {
      "text/plain": [
       "181"
      ]
     },
     "execution_count": 25,
     "metadata": {},
     "output_type": "execute_result"
    }
   ],
   "source": [
    "y.instr(st,'VLAN')"
   ]
  },
  {
   "cell_type": "code",
   "execution_count": 42,
   "metadata": {},
   "outputs": [
    {
     "data": {
      "text/plain": [
       "291"
      ]
     },
     "execution_count": 42,
     "metadata": {},
     "output_type": "execute_result"
    }
   ],
   "source": [
    "y.instrrev(st,'VLAN')"
   ]
  },
  {
   "cell_type": "code",
   "execution_count": 43,
   "metadata": {},
   "outputs": [
    {
     "data": {
      "text/plain": [
       "'Close Notification:*1'"
      ]
     },
     "execution_count": 43,
     "metadata": {},
     "output_type": "execute_result"
    }
   ],
   "source": [
    "y.midcut(st,0,21)"
   ]
  },
  {
   "cell_type": "code",
   "execution_count": 44,
   "metadata": {},
   "outputs": [
    {
     "data": {
      "text/plain": [
       "'VLAN missmatched at SPZNR02 during TNR CRQ000000224351\\n        (Slogan: NCCD Abis_oIP Project FE configure at '"
      ]
     },
     "execution_count": 44,
     "metadata": {},
     "output_type": "execute_result"
    }
   ],
   "source": [
    "y.midcut(st,y.instr(st,'VLAN'),y.instrrev(st,'VLAN'))"
   ]
  },
  {
   "cell_type": "code",
   "execution_count": 45,
   "metadata": {},
   "outputs": [
    {
     "data": {
      "text/plain": [
       "str"
      ]
     },
     "execution_count": 45,
     "metadata": {},
     "output_type": "execute_result"
    }
   ],
   "source": [
    "y.str_chktype(st)"
   ]
  },
  {
   "cell_type": "code",
   "execution_count": null,
   "metadata": {},
   "outputs": [],
   "source": []
  }
 ],
 "metadata": {
  "kernelspec": {
   "display_name": "Python 3",
   "language": "python",
   "name": "python3"
  },
  "language_info": {
   "codemirror_mode": {
    "name": "ipython",
    "version": 3
   },
   "file_extension": ".py",
   "mimetype": "text/x-python",
   "name": "python",
   "nbconvert_exporter": "python",
   "pygments_lexer": "ipython3",
   "version": "3.8.1"
  }
 },
 "nbformat": 4,
 "nbformat_minor": 4
}
