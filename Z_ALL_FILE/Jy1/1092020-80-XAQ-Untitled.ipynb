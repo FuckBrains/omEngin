{
 "cells": [
  {
   "cell_type": "code",
   "execution_count": 8,
   "metadata": {
    "scrolled": true
   },
   "outputs": [
    {
     "name": "stdout",
     "output_type": "stream",
     "text": [
      "['SERIAL', 'CUSTOMATTR15', 'SUMMARY', 'LASTOCCURRENCE', 'CLEARTIMESTAMP', 'CUSTOMATTR3', 'scode']\n"
     ]
    }
   ],
   "source": [
    "import pandas as pd\n",
    "import numpy as np\n",
    "import os\n",
    "import sqlite3\n",
    "\n",
    "pt = os.getcwd()\n",
    "alarm = pt + \"\\\\C.csv\"\n",
    "\n",
    "\n",
    "def conv_2_list(ls1, ls2, ls3):\n",
    "    ToDf = pd.DataFrame(zip(ls1, ls2, l3))\n",
    "    print(Todf)\n",
    "    \n",
    "\n",
    "l0 = [\"0\", \"1\", \"2\", \"3\", \"4\"]\n",
    "l1 = [\"Amar\", \"Barsha\", \"Carlos\", \"Tanmay\", \"Misbah\"] \n",
    "l2 = [\"Alpha\", \"Bravo\", \"Charlie\", \"Tango\", \"Mike\"] \n",
    "#conv_2_list(l0,l1,l2)\n",
    "\n",
    "\n",
    "def concat(v1,v2):\n",
    "    z = str(v1) + '-' + str(v2)\n",
    "    return z\n",
    "\n",
    "CDCT = lambda x : x[:4] if (len(x) >= 6) else \"NF\"\n",
    "\n",
    "def df_add_col(dff,nwcol):\n",
    "    df = dff.replace(r'^\\s*$', np.NaN, regex=True)\n",
    "    for i in range(len(df)):\n",
    "        df.loc[i,nwcol] = concat(df.loc[i,\"CUSTOMATTR15\"],df.loc[i,\"SUMMARY\"])\n",
    "    return df\n",
    "\n",
    "\n",
    "\n",
    "\n",
    "df0 = pd.read_csv(alarm)\n",
    "df1 = df0[['SERIAL','CUSTOMATTR15','SUMMARY','LASTOCCURRENCE','CLEARTIMESTAMP','CUSTOMATTR3']]\n",
    "x = df_add_col(df1,'scode')\n",
    "ls = x.columns.to_list()\n",
    "print(ls)\n",
    "#print(x)\n",
    "\n",
    "\n",
    "\n",
    "\n"
   ]
  },
  {
   "cell_type": "code",
   "execution_count": null,
   "metadata": {},
   "outputs": [],
   "source": []
  },
  {
   "cell_type": "code",
   "execution_count": null,
   "metadata": {},
   "outputs": [],
   "source": []
  }
 ],
 "metadata": {
  "kernelspec": {
   "display_name": "Python 3",
   "language": "python",
   "name": "python3"
  },
  "language_info": {
   "codemirror_mode": {
    "name": "ipython",
    "version": 3
   },
   "file_extension": ".py",
   "mimetype": "text/x-python",
   "name": "python",
   "nbconvert_exporter": "python",
   "pygments_lexer": "ipython3",
   "version": "3.8.1"
  }
 },
 "nbformat": 4,
 "nbformat_minor": 4
}
