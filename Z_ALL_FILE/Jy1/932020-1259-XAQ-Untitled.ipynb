{
 "cells": [
  {
   "cell_type": "code",
   "execution_count": null,
   "metadata": {},
   "outputs": [],
   "source": [
    "import pandas as pd\n",
    "import os\n",
    "import numpy\n",
    "import MySQLdb\n",
    "\n",
    "conn= MySQLdb.connect(\"localhost\",\"root\",\"admin\",\"omdb\")\n",
    "file = os.getcwd() + \"\\\\\" + \"BK1.csv\"\n",
    "df_mysql = pd.read_sql(\"select * from sitedb\",conn)\n",
    "df_csv = pd.read_csv(file)\n"
   ]
  }
 ],
 "metadata": {
  "kernelspec": {
   "display_name": "Python 3",
   "language": "python",
   "name": "python3"
  },
  "language_info": {
   "codemirror_mode": {
    "name": "ipython",
    "version": 3
   },
   "file_extension": ".py",
   "mimetype": "text/x-python",
   "name": "python",
   "nbconvert_exporter": "python",
   "pygments_lexer": "ipython3",
   "version": "3.8.1"
  }
 },
 "nbformat": 4,
 "nbformat_minor": 4
}
