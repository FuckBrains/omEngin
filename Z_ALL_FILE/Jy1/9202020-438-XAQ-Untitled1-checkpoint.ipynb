{
 "cells": [
  {
   "cell_type": "code",
   "execution_count": 13,
   "metadata": {
    "scrolled": true
   },
   "outputs": [
    {
     "name": "stdout",
     "output_type": "stream",
     "text": [
      "    a  b  count\n",
      "0   1  3    NaN\n",
      "1   1  5    4.0\n",
      "2   5  6    NaN\n",
      "3   7  2    NaN\n",
      "4   1  4    1.0\n",
      "5   5  6    2.0\n",
      "6   1  7    NaN\n",
      "7   4  8    2.0\n",
      "8   7  7    1.0\n",
      "9   8  8    1.0\n",
      "10  9  9    NaN\n"
     ]
    }
   ],
   "source": [
    "import pandas as pd\n",
    "import numpy as np\n",
    "\n",
    "df = pd.DataFrame({'a': [1, 1, 5, 7, 1, 5, 1, 4, 7, 8, 9],\n",
    "                   'b': [3, 5, 6, 2, 4, 6, 7, 8, 7, 8, 9]})\n",
    "\n",
    "#print(df['a'].to_list())\n",
    "#print(df['a'].value_counts())\n",
    "\n",
    "df['count'] = df['a'].value_counts(dropna=True)\n",
    "#df2 = df.replace(np.nan,0)\n",
    "print(df)\n"
   ]
  },
  {
   "cell_type": "code",
   "execution_count": null,
   "metadata": {},
   "outputs": [],
   "source": []
  },
  {
   "cell_type": "code",
   "execution_count": null,
   "metadata": {},
   "outputs": [],
   "source": []
  },
  {
   "cell_type": "code",
   "execution_count": null,
   "metadata": {},
   "outputs": [],
   "source": []
  }
 ],
 "metadata": {
  "kernelspec": {
   "display_name": "Python 3",
   "language": "python",
   "name": "python3"
  },
  "language_info": {
   "codemirror_mode": {
    "name": "ipython",
    "version": 3
   },
   "file_extension": ".py",
   "mimetype": "text/x-python",
   "name": "python",
   "nbconvert_exporter": "python",
   "pygments_lexer": "ipython3",
   "version": "3.8.1"
  }
 },
 "nbformat": 4,
 "nbformat_minor": 4
}
