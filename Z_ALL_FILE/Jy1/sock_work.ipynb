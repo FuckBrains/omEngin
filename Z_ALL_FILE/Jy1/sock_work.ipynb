{
 "cells": [
  {
   "cell_type": "code",
   "execution_count": null,
   "metadata": {},
   "outputs": [],
   "source": []
  },
  {
   "cell_type": "code",
   "execution_count": 2,
   "metadata": {},
   "outputs": [],
   "source": [
    "import pandas as pd\n",
    "import numpy as np\n",
    "import os\n",
    "import MySQLdb\n",
    "import csv\n",
    "\n",
    "conn= MySQLdb.connect(\"23.152.224.49\",\"akomi\",\"1q2w3eaz$\",\"omdb\")\n",
    "\n",
    "pt = os.getcwd()\n",
    "proxy = pt + '\\\\hideme.csv'\n",
    "db = pt + '\\\\ip2as.csv'\n",
    "\n",
    "def add_col(dA,c):\n",
    "    rw, col = dA.shape\n",
    "    lst = []\n",
    "    for i in range(rw):\n",
    "        x = dA[i][c]\n",
    "        y = x.rfind('.')\n",
    "        s = x[0:y]\n",
    "        lst.append(s)\n",
    "    dA = np.append(dA, np.array([lst]).transpose(), axis=1)\n",
    "    return dA\n",
    "\n",
    "dpx = pd.read_csv(proxy,delimiter=';')\n",
    "ddb = pd.read_csv(db)\n",
    "dpx1 = dpx[['ip','port']]\n",
    "dA = dpx1.to_numpy()\n",
    "#z = add_col(dA)\n",
    "#df1 = pd.DataFrame(z,columns=['ip','port','ipmod'])\n",
    "\n",
    "dd = ddb.to_numpy()\n",
    "z1 = add_col(dd,0)\n",
    "df2 = pd.DataFrame(z1,columns=['IP1','IP2','ASN','Country','ISP','IPMOD'])\n",
    "df = df2.to_csv(pt + '\\\\A2S.csv',',')\n"
   ]
  },
  {
   "cell_type": "code",
   "execution_count": null,
   "metadata": {},
   "outputs": [],
   "source": [
    "cursor = conn.cursor()\n",
    "try:\n",
    "    with open(pt + '\\\\A2S.csv') as csv_file:\n",
    "        csv_reader = csv.reader(csv_file, delimiter=',')\n",
    "        sql = \"INSERT INTO ipasn3 (IP1,IP2,ASN,Country,ISP,IPMOD) VALUES (%s,%s,%s,%s,%s)\"\n",
    "        for row in csv_reader:\n",
    "            row = (', '.join(row))\n",
    "            print(row)\n",
    "            cursor.execute(sql, row)\n",
    "except:\n",
    "    conn.rollback()\n",
    "finally:\n",
    "    conn.close()"
   ]
  },
  {
   "cell_type": "code",
   "execution_count": 77,
   "metadata": {
    "scrolled": false
   },
   "outputs": [
    {
     "name": "stdout",
     "output_type": "stream",
     "text": [
      "[['Hisila' Timestamp('2019-11-20 00:00:00') 200 'Junior']\n",
      " ['Shristi' Timestamp('2020-01-02 00:00:00') 400 'Senior']\n",
      " ['Zeppy' Timestamp('2020-02-05 00:00:00') 300 'Junior']\n",
      " ['Alina' Timestamp('2020-03-10 00:00:00') 500 'Senior']\n",
      " ['Jerry' Timestamp('2020-04-16 00:00:00') 600 'Senior']\n",
      " ['Kevin' Timestamp('2020-05-01 00:00:00') 300 'Junior']]\n"
     ]
    }
   ],
   "source": [
    "list_of_dates = ['2019-11-20', '2020-01-02', '2020-02-05','2020-03-10','2020-04-16','2020-05-01']\n",
    "employees = ['Hisila', 'Shristi','Zeppy','Alina','Jerry','Kevin']\n",
    "salary = [200,400,300,500,600,300]\n",
    "df = pd.DataFrame({\"Name\":employees,'Joined date': pd.to_datetime(list_of_dates),\"Salary\":salary})\n",
    "df['Status'] = [\"Senior\" if s >=400 else \"Junior\" for s in df['Salary']] \n",
    "#print(df)\n",
    "\n",
    "df['Status'] = np.where(df['Salary']>=400, 'Senior', 'Junior')\n",
    "nm = df.to_numpy()\n",
    "rw, col = nm.shape\n",
    "print(nm)\n",
    "\n",
    "ml = []\n",
    "for i in range(rw):\n",
    "    if nm[i,2]>300:\n",
    "        ml.append('GT')\n",
    "    else:\n",
    "        ml.append('LT')"
   ]
  },
  {
   "cell_type": "code",
   "execution_count": 78,
   "metadata": {},
   "outputs": [
    {
     "name": "stdout",
     "output_type": "stream",
     "text": [
      "[]\n"
     ]
    }
   ],
   "source": [
    "empty_array = np.empty((4, 0), int)\n",
    "print(empty_array)"
   ]
  },
  {
   "cell_type": "code",
   "execution_count": 79,
   "metadata": {},
   "outputs": [
    {
     "name": "stdout",
     "output_type": "stream",
     "text": [
      "[[11]\n",
      " [21]\n",
      " [31]\n",
      " [41]]\n"
     ]
    }
   ],
   "source": [
    "column_list_1 = [11, 21, 31, 41]\n",
    "empty_array = np.append(empty_array, np.array([column_list_1]).transpose(), axis=1)\n",
    "print(empty_array)"
   ]
  },
  {
   "cell_type": "code",
   "execution_count": 80,
   "metadata": {},
   "outputs": [
    {
     "name": "stdout",
     "output_type": "stream",
     "text": [
      "[[11 15]\n",
      " [21 25]\n",
      " [31 35]\n",
      " [41 45]]\n"
     ]
    }
   ],
   "source": [
    "column_list_2 = [15, 25, 35, 45]\n",
    "empty_array = np.append(empty_array, np.array([column_list_2]).transpose(), axis=1)\n",
    "print(empty_array)"
   ]
  },
  {
   "cell_type": "code",
   "execution_count": 81,
   "metadata": {},
   "outputs": [
    {
     "name": "stdout",
     "output_type": "stream",
     "text": [
      "[['Hisila' Timestamp('2019-11-20 00:00:00') 200 'Junior' 'LT']\n",
      " ['Shristi' Timestamp('2020-01-02 00:00:00') 400 'Senior' 'GT']\n",
      " ['Zeppy' Timestamp('2020-02-05 00:00:00') 300 'Junior' 'LT']\n",
      " ['Alina' Timestamp('2020-03-10 00:00:00') 500 'Senior' 'GT']\n",
      " ['Jerry' Timestamp('2020-04-16 00:00:00') 600 'Senior' 'GT']\n",
      " ['Kevin' Timestamp('2020-05-01 00:00:00') 300 'Junior' 'LT']]\n"
     ]
    }
   ],
   "source": [
    "nm = np.append(nm, np.array([ml]).transpose(), axis=1)\n",
    "print(nm)"
   ]
  },
  {
   "cell_type": "code",
   "execution_count": null,
   "metadata": {},
   "outputs": [],
   "source": []
  },
  {
   "cell_type": "code",
   "execution_count": null,
   "metadata": {},
   "outputs": [],
   "source": []
  }
 ],
 "metadata": {
  "kernelspec": {
   "display_name": "Python 3",
   "language": "python",
   "name": "python3"
  },
  "language_info": {
   "codemirror_mode": {
    "name": "ipython",
    "version": 3
   },
   "file_extension": ".py",
   "mimetype": "text/x-python",
   "name": "python",
   "nbconvert_exporter": "python",
   "pygments_lexer": "ipython3",
   "version": "3.8.1"
  }
 },
 "nbformat": 4,
 "nbformat_minor": 4
}
