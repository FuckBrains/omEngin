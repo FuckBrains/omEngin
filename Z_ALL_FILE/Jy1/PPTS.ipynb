{
 "cells": [
  {
   "cell_type": "code",
   "execution_count": null,
   "metadata": {},
   "outputs": [],
   "source": []
  },
  {
   "cell_type": "code",
   "execution_count": 3,
   "metadata": {},
   "outputs": [
    {
     "name": "stdout",
     "output_type": "stream",
     "text": [
      "    EQUIPMENTKEY CUSTOMATTR15           SUMMARY  CLEARTIMESTAMP  CAT CATX  \\\n",
      "0        S79075D      HGSDR27  HUW-2G CELL DOWN  1/12/2020 0:11   22   2G   \n",
      "1        S79075E      HGSDR27  HUW-2G CELL DOWN  1/12/2020 0:11   22   2G   \n",
      "2        S79075F      HGSDR27  HUW-2G CELL DOWN  1/12/2020 0:11   22   2G   \n",
      "3        S79075A      HGSDR27  HUW-2G CELL DOWN  1/12/2020 0:11   22   2G   \n",
      "4        S79075B      HGSDR27  HUW-2G CELL DOWN  1/12/2020 0:11   22   2G   \n",
      "..           ...          ...               ...             ...  ...  ...   \n",
      "573    JHKLG27WA      JHKLG27  HUW-3G CELL DOWN  1/12/2020 3:53   33   3G   \n",
      "574    JHKLG27WC      JHKLG27  HUW-3G CELL DOWN  1/12/2020 4:08   33   3G   \n",
      "575    JHKLG27WA      JHKLG27  HUW-3G CELL DOWN  1/12/2020 4:22   33   3G   \n",
      "576    JHKLG27WC      JHKLG27  HUW-3G CELL DOWN  1/12/2020 4:22   33   3G   \n",
      "577    JHKLG27WB      JHKLG27  HUW-3G CELL DOWN  1/12/2020 4:21   33   3G   \n",
      "\n",
      "    ZONE  LASTOCCURRENCE      DUR  \n",
      "0    SYL  1/12/2020 0:00  3022.75  \n",
      "1    SYL  1/12/2020 0:00  3022.75  \n",
      "2    SYL  1/12/2020 0:00  3022.75  \n",
      "3    SYL  1/12/2020 0:00  3022.75  \n",
      "4    SYL  1/12/2020 0:00  3022.75  \n",
      "..   ...             ...      ...  \n",
      "573  KUS  1/12/2020 3:51  2791.75  \n",
      "574  KUS  1/12/2020 4:06  2776.75  \n",
      "575  KUS  1/12/2020 4:19  2763.75  \n",
      "576  KUS  1/12/2020 4:19  2763.75  \n",
      "577  KUS  1/12/2020 4:19  2763.75  \n",
      "\n",
      "[578 rows x 9 columns]\n"
     ]
    }
   ],
   "source": [
    "import pandas as pd\n",
    "import MySQLdb, os, pyodbc\n",
    "from datetime import *\n",
    "from dateutil.relativedelta import *\n",
    "import numpy as np\n",
    "from fn import *\n",
    "\n",
    "def PP(df):\n",
    "    try:\n",
    "        print(df['LASTOCCURRENCE', 'DUR', 'DURCAT'])\n",
    "    except:\n",
    "        try:\n",
    "            print(df['LASTOCCURRENCE', 'DUR'])\n",
    "        except:\n",
    "            print(df['LASTOCCURRENCE'])\n",
    "            \n",
    "def series2df(sr1, sr2):\n",
    "    df = pd.concat([sr1, sr2], axis=1)\n",
    "    return df\n",
    "\n",
    "def DateDiff(df, newcol, col1, col2 = False, DayFirst = True):\n",
    "    if col2 == False:\n",
    "        lscol = df[col1].to_list()\n",
    "        ls = list(map (lambda x: ((datetime.now() - datetime.strptime(x, \"%d/%m/%Y %H:%M\")).total_seconds())/60, lscol))\n",
    "        df[newcol] = np.array(ls)\n",
    "    else:\n",
    "        lscol1 = df[col1].to_list()\n",
    "        lscol2 = df[col2].to_list()\n",
    "        ls = list(map (lambda x , y: ((datetime.strptime(x, \"%d/%m/%Y %H:%M\") - datetime.strptime(y, \"%d/%m/%Y %H:%M\")).total_seconds())/60 if ('1970' not in str(y)) else \"0\", lscol2,lscol1))\n",
    "        df[newcol] = np.array(ls)\n",
    "    df[newcol] = df[newcol].astype(float).round(2)\n",
    "    return df\n",
    "    \n",
    "def xxz(df):\n",
    "    df['LASTOCCURRENCE'] = df['LASTOCCURRENCE'].apply(lambda x : pd.Timestamp(x))\n",
    "    return df\n",
    "\n",
    "def Delta(df):\n",
    "    df['LASTOCCURRENCE'] = df['LASTOCCURRENCE'].apply(lambda x : x - pd.to_timedelta(2))\n",
    "    print(xdf)\n",
    "    \n",
    "def Sr2Tstamp(df):\n",
    "    xx['LASTOCCURRENCE'] = df['LASTOCCURRENCE'].to_timestamp\n",
    "    print(xx)\n",
    "\n",
    "def DateTime_toSQL(df):\n",
    "    df['LASTOCCURRENCE'] = df['LASTOCCURRENCE'].apply(lambda x : pd.to_datetime(x, errors='coerce', dayfirst = True, cache=True).strftime(\"%Y/%m/%d %H:%M:%S\"))\n",
    "    return df\n",
    "    \n",
    "\n",
    "pt = os.getcwd() + \"\\\\\"\n",
    "df = pd.read_csv(pt + 'P.csv')\n",
    "#xd = DateTime(df)\n",
    "#Delta(xd)\n",
    "#Sr2Tstamp(df)\n",
    "#xxz(df)\n",
    "xa = DateDiff(df, \"DUR\", \"LASTOCCURRENCE\")\n",
    "print(xa)\n",
    "\n",
    "\n"
   ]
  },
  {
   "cell_type": "code",
   "execution_count": null,
   "metadata": {},
   "outputs": [],
   "source": []
  },
  {
   "cell_type": "code",
   "execution_count": null,
   "metadata": {},
   "outputs": [],
   "source": []
  }
 ],
 "metadata": {
  "kernelspec": {
   "display_name": "Python 3",
   "language": "python",
   "name": "python3"
  },
  "language_info": {
   "codemirror_mode": {
    "name": "ipython",
    "version": 3
   },
   "file_extension": ".py",
   "mimetype": "text/x-python",
   "name": "python",
   "nbconvert_exporter": "python",
   "pygments_lexer": "ipython3",
   "version": "3.8.1"
  }
 },
 "nbformat": 4,
 "nbformat_minor": 4
}
