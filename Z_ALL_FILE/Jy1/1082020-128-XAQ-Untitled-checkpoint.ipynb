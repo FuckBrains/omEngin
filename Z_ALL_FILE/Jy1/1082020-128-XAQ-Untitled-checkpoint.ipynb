{
 "cells": [
  {
   "cell_type": "code",
   "execution_count": 1,
   "metadata": {
    "scrolled": true
   },
   "outputs": [
    {
     "name": "stdout",
     "output_type": "stream",
     "text": [
      "0        DHBDD69\n",
      "1        NOMJD52\n",
      "2        DHBDD69\n",
      "3        GBGBD25\n",
      "4           <NA>\n",
      "          ...   \n",
      "17008       <NA>\n",
      "17009       <NA>\n",
      "17010       <NA>\n",
      "17011       <NA>\n",
      "17012       <NA>\n",
      "Name: scode, Length: 17013, dtype: string\n"
     ]
    }
   ],
   "source": [
    "import pandas as pd\n",
    "import numpy as np\n",
    "import os\n",
    "import sqlite3\n",
    "\n",
    "pt = os.getcwd()\n",
    "alarm = pt + \"\\\\C.csv\"\n",
    "\n",
    "df0 = pd.read_csv(alarm)\n",
    "df1 = df0[['SERIAL','CUSTOMATTR15','SUMMARY','LASTOCCURRENCE','CLEARTIMESTAMP','CUSTOMATTR3']]\n",
    "\n",
    "\n",
    "con = sqlite3.connect('omdb.db')\n",
    "def create_tbl():\n",
    "    cr = con.cursor()\n",
    "    cr.execute(\"CREATE TABLE hs(SERIAL,CUSTOMATTR15,SUMMARY,LASTOCCURRENCE,CLEARTIMESTAMP,CUSTOMATTR3)\")\n",
    "    con.commit()\n",
    "\n",
    "def uoload_data(df1,dbname):\n",
    "    df1.to_sql(\"'\" + dbname + \"'\", con)\n",
    "\n",
    "def delete_data(dbname):\n",
    "    pass\n",
    "\n",
    "\n",
    "\n",
    "def concat(v1,v2):\n",
    "    z = str(v1) + '-' + str(v2)\n",
    "    return z\n",
    "\n",
    "CDCT = lambda x : x[:4] if (len(x) >= 6) else \"NF\"\n",
    "\n",
    "def df_add_col(dff,nwcol,whichfn):\n",
    "    df = dff.replace(r'^\\s*$', np.NaN, regex=True)\n",
    "    if whichfn == 'concat':\n",
    "        for i in range(len(df)):\n",
    "            df.loc[i,nwcol] = concat(df.loc[i,\"CUSTOMATTR15\"],df.loc[i,\"SUMMARY\"])\n",
    "        return df\n",
    "    elif whichfn == 'codecut':\n",
    "        dfx = df.convert_dtypes()\n",
    "        dfx = dfx.assign(scode = lambda x: CDCT(x.CUSTOMATTR15), axis=1)\n",
    "        return dfx\n",
    "    elif whichfn == 'datediff':\n",
    "        df['LASTOCCURRENCE'] = df['LASTOCCURRENCE'].astype('datetime64[ns]')\n",
    "\n",
    "\n",
    "\n",
    "x = df_add_col(df1,'scode','codecut')\n",
    "print(x['scode'])\n",
    "\n",
    "\n",
    "\n",
    "\n"
   ]
  },
  {
   "cell_type": "code",
   "execution_count": null,
   "metadata": {},
   "outputs": [],
   "source": []
  },
  {
   "cell_type": "code",
   "execution_count": null,
   "metadata": {},
   "outputs": [],
   "source": []
  }
 ],
 "metadata": {
  "kernelspec": {
   "display_name": "Python 3",
   "language": "python",
   "name": "python3"
  },
  "language_info": {
   "codemirror_mode": {
    "name": "ipython",
    "version": 3
   },
   "file_extension": ".py",
   "mimetype": "text/x-python",
   "name": "python",
   "nbconvert_exporter": "python",
   "pygments_lexer": "ipython3",
   "version": "3.8.1"
  }
 },
 "nbformat": 4,
 "nbformat_minor": 4
}
