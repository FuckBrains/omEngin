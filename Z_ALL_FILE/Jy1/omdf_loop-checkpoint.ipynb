{
 "cells": [
  {
   "cell_type": "code",
   "execution_count": 10,
   "metadata": {
    "scrolled": true
   },
   "outputs": [],
   "source": [
    "import pandas as pd\n",
    "import numpy as np\n",
    "import os\n",
    "from datetime import date\n",
    "cols = [\"Resource\",\"CustomAttr15\",\"Summary\",\"LastOccurrence\",\"CustomAttr11\"] #Range [A-E]\n",
    "single = os.getcwd() + \"\\\\\" + \"single.csv\"\n",
    "print(single)\n",
    "df = pd.read_csv(single)\n",
    "Rn = df[cols]\n",
    "#print(Rn)\n",
    "count = 1\n",
    "\n",
    "TS = lambda x : '2G' if ('2G SITE DOWN' in x) \\\n",
    "                else ('3G' if ('3G SITE DOWN' in x) \\\n",
    "                else ('4G' if ('4G SITE DOWN' in x) \\\n",
    "                else ('MF' if ('MAIN' in x) \\\n",
    "                else ('DC' if ('VOLTAGE' in x) \\\n",
    "                else ('TM' if ('TEMPERATURE' in x) \\\n",
    "                else ('SM' if ('SMOKE' in x) \\\n",
    "                else ('GN' if ('GEN' in x) \\\n",
    "                else ('GN' if ('GENSET' in x) \\\n",
    "                else ('TH' if ('THEFT' in x) \\\n",
    "                else ('2_CELL' if ('2G CELL DOWN' in x) \\\n",
    "                else ('3_CELL' if ('3G CELL DOWN' in x) \\\n",
    "                else ('4_CELL' if ('4G CELL DOWN' in x) \\\n",
    "                else \"NA\"))))))))))))\n",
    "\n",
    "def loop(Rn):\n",
    "    for rw in range(Rn.shape[0]):\n",
    "        rwvalue1 = Rn.iloc[rw , 1]  #on Column 1\n",
    "        rwvalue2 = Rn.iloc[rw , 2]  ##on Column 2\n",
    "        rwvalue3 = Rn.iloc[rw , 3]  ##on Column 3\n",
    "        count = count + 1\n",
    "        print('Row Number', count , ':', rwvalue1, '>', rwvalue2, '>', rwvalue3)\n",
    "    for column in Rn[['CustomAttr15']]:\n",
    "        colseries = Rn[column]\n",
    "        print(colseries.values) #Transposed value of Column\n",
    "    for (colname, coldata) in RnA2E.iteritems():\n",
    "        print(colname) #Column Name\n",
    "        print(coldata.values) #Transposed value of Column\n",
    "        print('end')\n",
    "\n",
    "class omdf:\n",
    "    def __init__(self,dff):\n",
    "        self.df = dff\n",
    "        self.arr = self.df.to_numpy()\n",
    "    def df_add_col_instr(self):\n",
    "        self.df['cat'] = self.df.apply(lambda row: TS(row.Summary), axis = 1)\n",
    "        return self.df.to_dict()\n",
    "    def df_add_col_dic(self,colname,newcol,dic):\n",
    "        self.df[newcol] = self.df['scode'].map(dic)\n",
    "        return self.df.to_dict()\n",
    "    def df_add_col_slice_str(self,newcolname):\n",
    "        self.df[newcolname] = self.df.apply(lambda x : x.CustomAttr15[0:5], axis = 1)\n",
    "        return self.df.to_dict()\n",
    "    def df_rmv_column(self,lis):\n",
    "        ndf = self.df[lis]\n",
    "        return ndf.to_dict()\n",
    "    def df_countif(self,column_name,newcolumn_name):\n",
    "        code = pd.Series(self.df[column_name])\n",
    "        lst = code.values.tolist()\n",
    "        dic = {}\n",
    "        for i in lst:\n",
    "            dic[i] = lst.count(i)\n",
    "        df_occ = pd.DataFrame(dic.items(),columns=[column_name, newcolumn_name])\n",
    "        mdf = self.df.merge(df_occ, on=column_name)\n",
    "        return mdf\n",
    "    def df_instr(self,colname,srcstr):\n",
    "        self.df[srcstr] = list(map(lambda x: x.count(srcstr), self.df[colname]))\n",
    "        return self.df\n",
    "    def df_vlookup(self,df2,common_colname):\n",
    "        mdf = self.df.merge(df2, on=common_colname)\n",
    "        return mdf\n",
    "\n",
    "    \n",
    "    #Rn['ABC'] = list(map(lambda x: x.count(\"CXTKN\"), Rn['CustomAttr15']))\n",
    "#print(Rn)\n",
    "#ndf = countif('CustomAttr15','CountOf')\n",
    "\n",
    "x = omdf(Rn)\n",
    "\n",
    "#ndf = x.df_instr('CustomAttr15','DHSDR')\n",
    "#print(ndf)\n"
   ]
  },
  {
   "cell_type": "code",
   "execution_count": null,
   "metadata": {},
   "outputs": [],
   "source": []
  },
  {
   "cell_type": "code",
   "execution_count": 191,
   "metadata": {},
   "outputs": [
    {
     "name": "stdout",
     "output_type": "stream",
     "text": [
      "0       NaN\n",
      "1       NaN\n",
      "2       NaN\n",
      "3       NaN\n",
      "4       NaN\n",
      "       ... \n",
      "3186    NaN\n",
      "3187    NaN\n",
      "3188    NaN\n",
      "3189    NaN\n",
      "3190    NaN\n",
      "Name: Summary, Length: 3191, dtype: object\n"
     ]
    }
   ],
   "source": [
    "L = lambda df,colname,dic : df[colname].map(dic)\n",
    "dic = {'ERI-2G SITE DOWN':'2G','ERI-3G SITE DOWN':'3G'}\n",
    "#dv = [value for key, value in dic.items() if '2G SITE DOWN' in key]\n",
    "print(L(Rn,'Summary',dic))"
   ]
  },
  {
   "cell_type": "code",
   "execution_count": null,
   "metadata": {},
   "outputs": [],
   "source": []
  }
 ],
 "metadata": {
  "kernelspec": {
   "display_name": "Python 3",
   "language": "python",
   "name": "python3"
  },
  "language_info": {
   "codemirror_mode": {
    "name": "ipython",
    "version": 3
   },
   "file_extension": ".py",
   "mimetype": "text/x-python",
   "name": "python",
   "nbconvert_exporter": "python",
   "pygments_lexer": "ipython3",
   "version": "3.8.1"
  }
 },
 "nbformat": 4,
 "nbformat_minor": 4
}
