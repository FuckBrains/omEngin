{
 "cells": [
  {
   "cell_type": "code",
   "execution_count": null,
   "metadata": {
    "scrolled": true
   },
   "outputs": [],
   "source": [
    "import pandas as pd\n",
    "import numpy as np\n",
    "import os\n",
    "from datetime import date\n",
    "import itertools\n",
    "\n",
    "cols = [\"Resource\",\"CustomAttr15\",\"Summary\",\"LastOccurrence\",\"CustomAttr11\"] #Range [A-E]\n",
    "single = os.getcwd() + \"\\\\\" + \"single.csv\"\n",
    "dff = pd.read_csv(single)\n",
    "df = dff[cols]\n",
    "print(df)"
   ]
  },
  {
   "cell_type": "markdown",
   "metadata": {},
   "source": [
    "### Numpy  [from df, to dic, to list]"
   ]
  },
  {
   "cell_type": "code",
   "execution_count": null,
   "metadata": {},
   "outputs": [],
   "source": [
    "arr = df.to_numpy()  #convert df to np\n",
    "print(arr[0][0])   #printing an index value of numpy arr\n",
    "rw, col = arr.shape #last row, last column\n",
    "print(rw,col)\n",
    "\n",
    "#loop and access\n",
    "lst = []\n",
    "dic = {}\n",
    "for i in range(rw):\n",
    "    lst2 = []\n",
    "    for j in range(col):\n",
    "        #print(arr[i][j])      #print Row by index\n",
    "        lst2.append(arr[i][j]) #create a list\n",
    "    dic.update( {i : lst2} ) #create dict\n",
    "#print(dic)\n"
   ]
  },
  {
   "cell_type": "markdown",
   "metadata": {},
   "source": [
    "### Numpy [add col from list]"
   ]
  },
  {
   "cell_type": "code",
   "execution_count": null,
   "metadata": {},
   "outputs": [],
   "source": [
    "#add new column derived from existing one\n",
    "lst3 = []\n",
    "for i in range(rw):\n",
    "    x = arr[i][2] #only printing summary\n",
    "    if 'DOWN' in x:\n",
    "        lst3.append('down')\n",
    "    else:\n",
    "        lst3.append('no')\n",
    "arr = np.append(arr, np.array([lst3]).transpose(), axis=1)\n",
    "df = pd.DataFrame(arr)\n",
    "print(df)"
   ]
  },
  {
   "cell_type": "markdown",
   "metadata": {},
   "source": [
    "# List"
   ]
  },
  {
   "cell_type": "code",
   "execution_count": null,
   "metadata": {},
   "outputs": [],
   "source": [
    "#derived list from df\n",
    "dff = pd.Series(df['CustomAttr15'])\n",
    "mlst1 = dff.to_list()\n",
    "mlst2 = df.values.tolist()\n",
    "mlst3 = df.columns.values.tolist()\n",
    "mlst4 = df['Summary'].values.tolist()\n",
    "mlst5 = df[['Summary','LastOccurrence']].values.tolist()\n",
    "#print(mlst4)\n",
    "\n",
    "def lp_1d_list(mlst1):\n",
    "    i = 0\n",
    "    for i in range(len(mlst1)):\n",
    "        print(mlst1[i])\n",
    "        i = i + 1\n",
    "def lp_nested_seperate_2_list(mlst1,mlst4):\n",
    "    for a in mlst1:\n",
    "        for b in mlst4:\n",
    "            print(a,\">\",b)\n",
    "def lp_nested_list(mlst2):\n",
    "    for i in range(len(mlst2)):\n",
    "        for j in range(len(mlst2[i])):\n",
    "            print(mlst2[i][j])\n",
    "\n",
    "# List Methods append(), count(), index(), pop(), sort()\n",
    "fruits = ['apple', 'banana', 'cherry','banana']\n",
    "fruits.append(\"orange\")\n",
    "print(fruits)\n",
    "print(fruits.count(\"banana\"))\n",
    "print(fruits.index(\"cherry\"))\n",
    "fruits = ['apple', 'banana', 'cherry']\n",
    "cars = ['Ford', 'BMW', 'Volvo']\n",
    "fruits.extend(cars)\n",
    "print(fruits) #JOIN 2 LIST\n",
    "fruits = fruits.pop(1)\n",
    "print(fruits)fruits.extend(cars)"
   ]
  },
  {
   "cell_type": "markdown",
   "metadata": {},
   "source": [
    "# dictionary"
   ]
  },
  {
   "cell_type": "code",
   "execution_count": null,
   "metadata": {},
   "outputs": [],
   "source": [
    "dic1 = {}\n",
    "dic2 = {1: 'apple', 2: 'ball'}\n",
    "dic3 = {'name': 'John', 1: [2, 4, 3]}\n",
    "dic4 = dict({1:'apple', 2:'ball'})\n",
    "dic5 = dict([(1,'apple'), (2,'ball')])\n",
    "\n",
    "#create dictionary from 2 list (as key , as value)\n",
    "dlist = dict(zip(mlst1, mlst5))\n",
    "#print(dlist)\n",
    "\n",
    "#dataframe to dictionary\n",
    "ddf1 = df.to_dict()\n",
    "\n",
    "def lp_dic(ddf1):\n",
    "    for key in ddf1:\n",
    "        print(key,ddf1[key])\n",
    "    for v in ddf1.values():\n",
    "        print(v)\n",
    "def lp_key_wise(dl):\n",
    "    for k,v in dlist.items():\n",
    "        print(\"STCODE:\", k, \":\", v[0],',', v[1])\n",
    "        \n",
    "lp_key_wise(dlist)\n",
    "#Method of Dictionary fromkeys(), get(), items(), keys(), values(), pop(), update()\n",
    "person = {'name': 'Phill', 'age': 22}\n",
    "#print(person.get('name'))\n",
    "\n",
    "d = {1: \"one\", 2: \"three\"}\n",
    "d1 = {2: \"two\"}\n",
    "d.update(d1)\n",
    "#print(d)\n",
    "\n",
    "person = {'name': 'Phill'}\n",
    "person.setdefault('age', 22)\n",
    "#print(person)"
   ]
  },
  {
   "cell_type": "code",
   "execution_count": null,
   "metadata": {},
   "outputs": [],
   "source": []
  },
  {
   "cell_type": "code",
   "execution_count": null,
   "metadata": {},
   "outputs": [],
   "source": []
  },
  {
   "cell_type": "code",
   "execution_count": null,
   "metadata": {},
   "outputs": [],
   "source": []
  }
 ],
 "metadata": {
  "kernelspec": {
   "display_name": "Python 3",
   "language": "python",
   "name": "python3"
  },
  "language_info": {
   "codemirror_mode": {
    "name": "ipython",
    "version": 3
   },
   "file_extension": ".py",
   "mimetype": "text/x-python",
   "name": "python",
   "nbconvert_exporter": "python",
   "pygments_lexer": "ipython3",
   "version": "3.8.1"
  }
 },
 "nbformat": 4,
 "nbformat_minor": 4
}
