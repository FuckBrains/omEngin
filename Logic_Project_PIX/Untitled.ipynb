{
 "cells": [
  {
   "cell_type": "code",
   "execution_count": 39,
   "metadata": {},
   "outputs": [
    {
     "name": "stdout",
     "output_type": "stream",
     "text": [
      "ret val ['NOBGM07']\n"
     ]
    },
    {
     "ename": "SyntaxError",
     "evalue": "'return' outside function (<ipython-input-39-5c9fac2c8400>, line 64)",
     "output_type": "error",
     "traceback": [
      "\u001b[1;36m  File \u001b[1;32m\"<ipython-input-39-5c9fac2c8400>\"\u001b[1;36m, line \u001b[1;32m64\u001b[0m\n\u001b[1;33m    return st\u001b[0m\n\u001b[1;37m    ^\u001b[0m\n\u001b[1;31mSyntaxError\u001b[0m\u001b[1;31m:\u001b[0m 'return' outside function\n"
     ]
    }
   ],
   "source": [
    "import pandas as pd\n",
    "import os\n",
    "\n",
    "#opt = itertools.islice(ls, len(ls))\n",
    "#st = map(lambda x : )\n",
    "\n",
    "def parsecode(txt):\n",
    "    df = pd.read_csv(os.getcwd() + '\\\\OMDB.csv')\n",
    "    ls = df['Code'].to_list()\n",
    "    code = []\n",
    "    q = 0\n",
    "    for i in range(len(ls)):\n",
    "        text = txt\n",
    "        if ls[i] in text:\n",
    "            n = text.find(ls[i])\n",
    "            st = text[n:n+7]\n",
    "            code.append(st)\n",
    "            txt = txt.replace(ls[i],'')\n",
    "            q = q + 1\n",
    "    else:\n",
    "        if q == 0:\n",
    "            return ''\n",
    "        else:\n",
    "            return code\n",
    "        \n",
    "def qry_by_code(code, tbl = None, col = None):\n",
    "    if tbl is None and col is None:\n",
    "        a1 = \"select Incident_Notification,Down_Time,Up_Time,Major_Cause,Action_Taken,Link_ID_Site_ID,Incident_ID from omdb.inc_tracker_mysql where (\"\n",
    "        a2 = \" No_of_2G_Impacted_sites Like '%\" + code + \"%' or No_of_3G_Impacted_sites like '%\" + code + \"%' or No_of_4G_Impacted_Sites like '%\" + code + \"%' or Incident_Notification Like '%\" + code \n",
    "        a3 = \"%') order by Down_Time desc\"\n",
    "        aa = a1 + a2 + a3\n",
    "        return aa\n",
    "    else:\n",
    "        return \"\"\n",
    "            \n",
    "a = \"sevear problem found at and nobgm07 due to hartal.\"\n",
    "rs = parsecode(a.upper())\n",
    "print('ret val', rs)\n",
    "if len(rs) == 1:\n",
    "    code = rs[0]\n",
    "    try:\n",
    "        cd = int(code[6:7])\n",
    "        qry = qry_by_code(code)\n",
    "        conn = conn_brocker()\n",
    "        df = pd.read(qry, con = conn)\n",
    "        if df.shape[0] != 0:\n",
    "            rn = 0\n",
    "            st = \"\"\n",
    "            if df.shape[0] > 3:\n",
    "                st = \"last 3 incident out of \" + df.shape[0]\n",
    "                rn = 3\n",
    "            else:\n",
    "                st = \"incident found \" + df.shape[0] + chr(10)\n",
    "                rn = df.shape[0]\n",
    "            for i in range(rn):\n",
    "                tmp = chr(10)\n",
    "                for j in df:\n",
    "                    tmp = tmp + chr(10) + df.loc[i,j]\n",
    "                else:\n",
    "                    st = st + chr(10) + str(i) + tmp\n",
    "            else:\n",
    "                return st\n",
    "        else:\n",
    "            return 0\n",
    "    except:\n",
    "        print('not code')\n",
    "    \n",
    "    \n"
   ]
  },
  {
   "cell_type": "code",
   "execution_count": null,
   "metadata": {},
   "outputs": [],
   "source": []
  },
  {
   "cell_type": "code",
   "execution_count": null,
   "metadata": {},
   "outputs": [],
   "source": []
  },
  {
   "cell_type": "code",
   "execution_count": null,
   "metadata": {},
   "outputs": [],
   "source": []
  }
 ],
 "metadata": {
  "kernelspec": {
   "display_name": "Python 3",
   "language": "python",
   "name": "python3"
  },
  "language_info": {
   "codemirror_mode": {
    "name": "ipython",
    "version": 3
   },
   "file_extension": ".py",
   "mimetype": "text/x-python",
   "name": "python",
   "nbconvert_exporter": "python",
   "pygments_lexer": "ipython3",
   "version": "3.8.1"
  }
 },
 "nbformat": 4,
 "nbformat_minor": 4
}
