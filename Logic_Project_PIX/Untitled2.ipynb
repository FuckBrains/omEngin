{
 "cells": [
  {
   "cell_type": "code",
   "execution_count": 5,
   "metadata": {},
   "outputs": [
    {
     "ename": "NameError",
     "evalue": "name 'col1' is not defined",
     "output_type": "error",
     "traceback": [
      "\u001b[1;31m---------------------------------------------------------------------------\u001b[0m",
      "\u001b[1;31mNameError\u001b[0m                                 Traceback (most recent call last)",
      "\u001b[1;32m<ipython-input-5-820eac278a38>\u001b[0m in \u001b[0;36m<module>\u001b[1;34m\u001b[0m\n\u001b[0;32m     32\u001b[0m \u001b[1;31m#ls = list(map (lambda x: ((datetime.now() - datetime.strptime(x, \"%d/%m/%Y %H:%M\")).total_seconds())/60, lscol))\u001b[0m\u001b[1;33m\u001b[0m\u001b[1;33m\u001b[0m\u001b[1;33m\u001b[0m\u001b[0m\n\u001b[0;32m     33\u001b[0m \u001b[1;31m#ls = list(map (lambda x: ((datetime.now() - datetime.strptime(x, \"%Y/%m/%d %H:%M\")).total_seconds())/60, lscol))\u001b[0m\u001b[1;33m\u001b[0m\u001b[1;33m\u001b[0m\u001b[1;33m\u001b[0m\u001b[0m\n\u001b[1;32m---> 34\u001b[1;33m \u001b[0mdf\u001b[0m\u001b[1;33m[\u001b[0m\u001b[0mcol1\u001b[0m\u001b[1;33m]\u001b[0m \u001b[1;33m=\u001b[0m \u001b[0mdf\u001b[0m\u001b[1;33m[\u001b[0m\u001b[1;34m'LASTOCCURRENCE'\u001b[0m\u001b[1;33m]\u001b[0m\u001b[1;33m.\u001b[0m\u001b[0mapply\u001b[0m\u001b[1;33m(\u001b[0m\u001b[1;32mlambda\u001b[0m \u001b[0mx\u001b[0m \u001b[1;33m:\u001b[0m \u001b[0mpd\u001b[0m\u001b[1;33m.\u001b[0m\u001b[0mto_datetime\u001b[0m\u001b[1;33m(\u001b[0m\u001b[0mx\u001b[0m\u001b[1;33m,\u001b[0m \u001b[0merrors\u001b[0m\u001b[1;33m=\u001b[0m\u001b[1;34m'coerce'\u001b[0m\u001b[1;33m,\u001b[0m \u001b[0mdayfirst\u001b[0m \u001b[1;33m=\u001b[0m \u001b[1;32mTrue\u001b[0m\u001b[1;33m,\u001b[0m \u001b[0mcache\u001b[0m\u001b[1;33m=\u001b[0m\u001b[1;32mTrue\u001b[0m\u001b[1;33m)\u001b[0m\u001b[1;33m.\u001b[0m\u001b[0mstrftime\u001b[0m\u001b[1;33m(\u001b[0m\u001b[1;34m\"%Y/%m/%d %H:%M:%S\"\u001b[0m\u001b[1;33m)\u001b[0m\u001b[1;33m)\u001b[0m\u001b[1;33m\u001b[0m\u001b[1;33m\u001b[0m\u001b[0m\n\u001b[0m\u001b[0;32m     35\u001b[0m \u001b[0mprint\u001b[0m\u001b[1;33m(\u001b[0m\u001b[0mls\u001b[0m\u001b[1;33m)\u001b[0m\u001b[1;33m\u001b[0m\u001b[1;33m\u001b[0m\u001b[0m\n\u001b[0;32m     36\u001b[0m \u001b[1;31m#df3['DUR']\u001b[0m\u001b[1;33m\u001b[0m\u001b[1;33m\u001b[0m\u001b[1;33m\u001b[0m\u001b[0m\n",
      "\u001b[1;31mNameError\u001b[0m: name 'col1' is not defined"
     ]
    }
   ],
   "source": [
    "import time as tm\n",
    "import pandas as pd\n",
    "import numpy as np\n",
    "from datetime import *\n",
    "import os\n",
    "import oDT as dtx\n",
    "\n",
    "\n",
    "def DateDiff(df, newcol, col1, col2 = False, DayFirst = True):\n",
    "    if col2 == False:\n",
    "        lscol = df[col1].to_list()\n",
    "        try:\n",
    "            ls = list(map (lambda x: ((datetime.now() - datetime.strptime(x, \"%d/%m/%Y %H:%M\")).total_seconds())/60, lscol))\n",
    "        except:\n",
    "            ls = list(map (lambda x: ((datetime.now() - datetime.strptime(x, \"%Y/%m/%d %H:%M\")).total_seconds())/60, lscol))\n",
    "            df1 = fnx.add_col_df(df, 'newcol')\n",
    "            df1[newcol] = np.array(ls)\n",
    "    else:\n",
    "        lscol1 = df[col1].to_list()\n",
    "        lscol2 = df[col2].to_list()\n",
    "        ls = list(map (lambda x , y: ((datetime.strptime(x, \"%d/%m/%Y %H:%M\") - datetime.strptime(y, \"%d/%m/%Y %H:%M\")).total_seconds())/60 if ('1970' not in str(y)) else \"0\", lscol2,lscol1))\n",
    "        df1 = fnx.add_col_df(df, 'newcol')\n",
    "        df1[newcol] = np.array(ls)\n",
    "    df[newcol] = df[newcol].astype(float).round(2)\n",
    "    return df\n",
    "        \n",
    "\n",
    "\n",
    "df = pd.read_csv(os.getcwd() + \"\\\\csv\\\\TIME_TEST.csv\", low_memory=False)\n",
    "df = df.astype(str)\n",
    "lscol = df['LASTOCCURRENCE'].to_list()\n",
    "#ls = list(map (lambda x: ((datetime.now() - datetime.strptime(x, \"%d/%m/%Y %H:%M\")).total_seconds())/60, lscol))\n",
    "#ls = list(map (lambda x: ((datetime.now() - datetime.strptime(x, \"%Y/%m/%d %H:%M\")).total_seconds())/60, lscol))\n",
    "df[col1] = df['LASTOCCURRENCE'].apply(lambda x : pd.to_datetime(x, errors='coerce', dayfirst = True, cache=True).strftime(\"%Y/%m/%d %H:%M:%S\"))\n",
    "print(ls)\n",
    "#df3['DUR']\n",
    "#try:\n",
    "#    df3 = DateDiff (df, \"DUR\", \"LASTOCCURRENCE\")\n",
    "#except:\n",
    "#    df3 = datediff_ondf (df, \"DUR\", 'LASTOCCURRENCE')\n",
    "#print(df3.columns)"
   ]
  },
  {
   "cell_type": "code",
   "execution_count": null,
   "metadata": {},
   "outputs": [],
   "source": [
    "df3"
   ]
  },
  {
   "cell_type": "code",
   "execution_count": null,
   "metadata": {},
   "outputs": [],
   "source": []
  },
  {
   "cell_type": "code",
   "execution_count": null,
   "metadata": {},
   "outputs": [],
   "source": []
  }
 ],
 "metadata": {
  "kernelspec": {
   "display_name": "Python 3",
   "language": "python",
   "name": "python3"
  }
 },
 "nbformat": 4,
 "nbformat_minor": 4
}
